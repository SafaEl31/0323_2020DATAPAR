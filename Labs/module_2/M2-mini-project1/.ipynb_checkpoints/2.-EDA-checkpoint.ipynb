{
 "cells": [
  {
   "cell_type": "markdown",
   "metadata": {},
   "source": [
    "# Descriptive Statistics Review\n",
    "\n",
    "In this second part of the lab, we are going to continue working with the data that we cleaned in the last part. \n",
    "Be sure to continue to write clean code and comment your work well!\n",
    "\n",
    "First, lets import our libraries and the data we saved. "
   ]
  },
  {
   "cell_type": "code",
   "execution_count": 1,
   "metadata": {},
   "outputs": [],
   "source": [
    "import pandas as pd\n",
    "import matplotlib.pyplot as plt"
   ]
  },
  {
   "cell_type": "code",
   "execution_count": 2,
   "metadata": {},
   "outputs": [],
   "source": [
    "diamonds = pd.read_csv('diamonds_clean.csv')\n",
    "diamonds = diamonds.drop('Unnamed: 0', axis=1)"
   ]
  },
  {
   "cell_type": "markdown",
   "metadata": {},
   "source": [
    "Now that we cleaned our data, we can proceed with some exploratory analysis. We will analyze the features that affect price the most.\n",
    "\n",
    "Let's start by looking at how the charateristics of a diamond (especially the price, since that's our focus) change based on its color. Remember that you can use the `groupby()` method in pandas. \n",
    "\n",
    "**Using the `describe()` method, take a look on the dataset paying special attention to the variability. Comment what you see.**"
   ]
  },
  {
   "cell_type": "code",
   "execution_count": 3,
   "metadata": {},
   "outputs": [
    {
     "data": {
      "text/html": [
       "<div>\n",
       "<style scoped>\n",
       "    .dataframe tbody tr th:only-of-type {\n",
       "        vertical-align: middle;\n",
       "    }\n",
       "\n",
       "    .dataframe tbody tr th {\n",
       "        vertical-align: top;\n",
       "    }\n",
       "\n",
       "    .dataframe thead th {\n",
       "        text-align: right;\n",
       "    }\n",
       "</style>\n",
       "<table border=\"1\" class=\"dataframe\">\n",
       "  <thead>\n",
       "    <tr style=\"text-align: right;\">\n",
       "      <th></th>\n",
       "      <th>carat</th>\n",
       "      <th>depth</th>\n",
       "      <th>table</th>\n",
       "      <th>price</th>\n",
       "      <th>x</th>\n",
       "      <th>y</th>\n",
       "      <th>z</th>\n",
       "      <th>clarity_level</th>\n",
       "      <th>color_level</th>\n",
       "    </tr>\n",
       "  </thead>\n",
       "  <tbody>\n",
       "    <tr>\n",
       "      <th>count</th>\n",
       "      <td>53932.000000</td>\n",
       "      <td>53932.000000</td>\n",
       "      <td>53932.000000</td>\n",
       "      <td>53932.000000</td>\n",
       "      <td>53932.000000</td>\n",
       "      <td>53065.000000</td>\n",
       "      <td>53065.000000</td>\n",
       "      <td>53932.000000</td>\n",
       "      <td>53932.000000</td>\n",
       "    </tr>\n",
       "    <tr>\n",
       "      <th>mean</th>\n",
       "      <td>0.797879</td>\n",
       "      <td>61.749336</td>\n",
       "      <td>57.457029</td>\n",
       "      <td>3932.136079</td>\n",
       "      <td>5.732007</td>\n",
       "      <td>5.758229</td>\n",
       "      <td>3.554198</td>\n",
       "      <td>3.051101</td>\n",
       "      <td>3.405789</td>\n",
       "    </tr>\n",
       "    <tr>\n",
       "      <th>std</th>\n",
       "      <td>0.473986</td>\n",
       "      <td>1.432514</td>\n",
       "      <td>2.234064</td>\n",
       "      <td>3988.734835</td>\n",
       "      <td>1.119670</td>\n",
       "      <td>1.135066</td>\n",
       "      <td>0.692103</td>\n",
       "      <td>1.647109</td>\n",
       "      <td>1.701165</td>\n",
       "    </tr>\n",
       "    <tr>\n",
       "      <th>min</th>\n",
       "      <td>0.200000</td>\n",
       "      <td>43.000000</td>\n",
       "      <td>43.000000</td>\n",
       "      <td>326.000000</td>\n",
       "      <td>3.730000</td>\n",
       "      <td>3.690000</td>\n",
       "      <td>2.300000</td>\n",
       "      <td>0.000000</td>\n",
       "      <td>0.000000</td>\n",
       "    </tr>\n",
       "    <tr>\n",
       "      <th>25%</th>\n",
       "      <td>0.400000</td>\n",
       "      <td>61.000000</td>\n",
       "      <td>56.000000</td>\n",
       "      <td>949.750000</td>\n",
       "      <td>4.710000</td>\n",
       "      <td>4.750000</td>\n",
       "      <td>2.930000</td>\n",
       "      <td>2.000000</td>\n",
       "      <td>2.000000</td>\n",
       "    </tr>\n",
       "    <tr>\n",
       "      <th>50%</th>\n",
       "      <td>0.700000</td>\n",
       "      <td>61.800000</td>\n",
       "      <td>57.000000</td>\n",
       "      <td>2401.000000</td>\n",
       "      <td>5.700000</td>\n",
       "      <td>5.730000</td>\n",
       "      <td>3.540000</td>\n",
       "      <td>3.000000</td>\n",
       "      <td>3.000000</td>\n",
       "    </tr>\n",
       "    <tr>\n",
       "      <th>75%</th>\n",
       "      <td>1.040000</td>\n",
       "      <td>62.500000</td>\n",
       "      <td>59.000000</td>\n",
       "      <td>5324.000000</td>\n",
       "      <td>6.540000</td>\n",
       "      <td>6.550000</td>\n",
       "      <td>4.040000</td>\n",
       "      <td>4.000000</td>\n",
       "      <td>5.000000</td>\n",
       "    </tr>\n",
       "    <tr>\n",
       "      <th>max</th>\n",
       "      <td>5.010000</td>\n",
       "      <td>79.000000</td>\n",
       "      <td>95.000000</td>\n",
       "      <td>18823.000000</td>\n",
       "      <td>10.740000</td>\n",
       "      <td>58.900000</td>\n",
       "      <td>19.730000</td>\n",
       "      <td>7.000000</td>\n",
       "      <td>6.000000</td>\n",
       "    </tr>\n",
       "  </tbody>\n",
       "</table>\n",
       "</div>"
      ],
      "text/plain": [
       "              carat         depth         table         price             x  \\\n",
       "count  53932.000000  53932.000000  53932.000000  53932.000000  53932.000000   \n",
       "mean       0.797879     61.749336     57.457029   3932.136079      5.732007   \n",
       "std        0.473986      1.432514      2.234064   3988.734835      1.119670   \n",
       "min        0.200000     43.000000     43.000000    326.000000      3.730000   \n",
       "25%        0.400000     61.000000     56.000000    949.750000      4.710000   \n",
       "50%        0.700000     61.800000     57.000000   2401.000000      5.700000   \n",
       "75%        1.040000     62.500000     59.000000   5324.000000      6.540000   \n",
       "max        5.010000     79.000000     95.000000  18823.000000     10.740000   \n",
       "\n",
       "                  y             z  clarity_level   color_level  \n",
       "count  53065.000000  53065.000000   53932.000000  53932.000000  \n",
       "mean       5.758229      3.554198       3.051101      3.405789  \n",
       "std        1.135066      0.692103       1.647109      1.701165  \n",
       "min        3.690000      2.300000       0.000000      0.000000  \n",
       "25%        4.750000      2.930000       2.000000      2.000000  \n",
       "50%        5.730000      3.540000       3.000000      3.000000  \n",
       "75%        6.550000      4.040000       4.000000      5.000000  \n",
       "max       58.900000     19.730000       7.000000      6.000000  "
      ]
     },
     "execution_count": 3,
     "metadata": {},
     "output_type": "execute_result"
    }
   ],
   "source": [
    "diamonds.describe()"
   ]
  },
  {
   "cell_type": "code",
   "execution_count": 4,
   "metadata": {},
   "outputs": [
    {
     "data": {
      "text/plain": [
       "'Max value of z is more relevant after cleaning. (value before cleaning was 31.80)'"
      ]
     },
     "execution_count": 4,
     "metadata": {},
     "output_type": "execute_result"
    }
   ],
   "source": [
    "'''Max value of z is more relevant after cleaning. (value before cleaning was 31.80)'''"
   ]
  },
  {
   "cell_type": "markdown",
   "metadata": {},
   "source": [
    "Let's proceed to check each feature separately. \n",
    "\n",
    "**Before starting, which features do you think that will affect the price most and why? You will contrast your hypotheses with your results.**"
   ]
  },
  {
   "cell_type": "code",
   "execution_count": 5,
   "metadata": {},
   "outputs": [
    {
     "data": {
      "text/html": [
       "<div>\n",
       "<style scoped>\n",
       "    .dataframe tbody tr th:only-of-type {\n",
       "        vertical-align: middle;\n",
       "    }\n",
       "\n",
       "    .dataframe tbody tr th {\n",
       "        vertical-align: top;\n",
       "    }\n",
       "\n",
       "    .dataframe thead th {\n",
       "        text-align: right;\n",
       "    }\n",
       "</style>\n",
       "<table border=\"1\" class=\"dataframe\">\n",
       "  <thead>\n",
       "    <tr style=\"text-align: right;\">\n",
       "      <th></th>\n",
       "      <th>carat</th>\n",
       "      <th>cut</th>\n",
       "      <th>color</th>\n",
       "      <th>clarity</th>\n",
       "      <th>depth</th>\n",
       "      <th>table</th>\n",
       "      <th>price</th>\n",
       "      <th>x</th>\n",
       "      <th>y</th>\n",
       "      <th>z</th>\n",
       "      <th>clarity_level</th>\n",
       "      <th>color_level</th>\n",
       "    </tr>\n",
       "  </thead>\n",
       "  <tbody>\n",
       "    <tr>\n",
       "      <th>31587</th>\n",
       "      <td>0.20</td>\n",
       "      <td>Premium</td>\n",
       "      <td>E</td>\n",
       "      <td>VS2</td>\n",
       "      <td>61.1</td>\n",
       "      <td>59.0</td>\n",
       "      <td>367</td>\n",
       "      <td>3.81</td>\n",
       "      <td>3.78</td>\n",
       "      <td>2.32</td>\n",
       "      <td>3</td>\n",
       "      <td>5</td>\n",
       "    </tr>\n",
       "    <tr>\n",
       "      <th>31591</th>\n",
       "      <td>0.20</td>\n",
       "      <td>Ideal</td>\n",
       "      <td>D</td>\n",
       "      <td>VS2</td>\n",
       "      <td>61.5</td>\n",
       "      <td>57.0</td>\n",
       "      <td>367</td>\n",
       "      <td>3.81</td>\n",
       "      <td>3.77</td>\n",
       "      <td>2.33</td>\n",
       "      <td>3</td>\n",
       "      <td>6</td>\n",
       "    </tr>\n",
       "    <tr>\n",
       "      <th>31590</th>\n",
       "      <td>0.20</td>\n",
       "      <td>Premium</td>\n",
       "      <td>F</td>\n",
       "      <td>VS2</td>\n",
       "      <td>62.6</td>\n",
       "      <td>59.0</td>\n",
       "      <td>367</td>\n",
       "      <td>3.73</td>\n",
       "      <td>3.71</td>\n",
       "      <td>2.33</td>\n",
       "      <td>3</td>\n",
       "      <td>4</td>\n",
       "    </tr>\n",
       "    <tr>\n",
       "      <th>31589</th>\n",
       "      <td>0.20</td>\n",
       "      <td>Ideal</td>\n",
       "      <td>E</td>\n",
       "      <td>VS2</td>\n",
       "      <td>59.7</td>\n",
       "      <td>55.0</td>\n",
       "      <td>367</td>\n",
       "      <td>3.86</td>\n",
       "      <td>3.85</td>\n",
       "      <td>2.30</td>\n",
       "      <td>3</td>\n",
       "      <td>5</td>\n",
       "    </tr>\n",
       "    <tr>\n",
       "      <th>31588</th>\n",
       "      <td>0.20</td>\n",
       "      <td>Premium</td>\n",
       "      <td>E</td>\n",
       "      <td>VS2</td>\n",
       "      <td>59.7</td>\n",
       "      <td>62.0</td>\n",
       "      <td>367</td>\n",
       "      <td>3.84</td>\n",
       "      <td>NaN</td>\n",
       "      <td>NaN</td>\n",
       "      <td>3</td>\n",
       "      <td>5</td>\n",
       "    </tr>\n",
       "    <tr>\n",
       "      <th>...</th>\n",
       "      <td>...</td>\n",
       "      <td>...</td>\n",
       "      <td>...</td>\n",
       "      <td>...</td>\n",
       "      <td>...</td>\n",
       "      <td>...</td>\n",
       "      <td>...</td>\n",
       "      <td>...</td>\n",
       "      <td>...</td>\n",
       "      <td>...</td>\n",
       "      <td>...</td>\n",
       "      <td>...</td>\n",
       "    </tr>\n",
       "    <tr>\n",
       "      <th>25995</th>\n",
       "      <td>4.01</td>\n",
       "      <td>Premium</td>\n",
       "      <td>J</td>\n",
       "      <td>I1</td>\n",
       "      <td>62.5</td>\n",
       "      <td>62.0</td>\n",
       "      <td>15223</td>\n",
       "      <td>10.02</td>\n",
       "      <td>9.95</td>\n",
       "      <td>6.24</td>\n",
       "      <td>0</td>\n",
       "      <td>0</td>\n",
       "    </tr>\n",
       "    <tr>\n",
       "      <th>25994</th>\n",
       "      <td>4.01</td>\n",
       "      <td>Premium</td>\n",
       "      <td>I</td>\n",
       "      <td>I1</td>\n",
       "      <td>61.0</td>\n",
       "      <td>61.0</td>\n",
       "      <td>15223</td>\n",
       "      <td>10.14</td>\n",
       "      <td>10.09</td>\n",
       "      <td>6.17</td>\n",
       "      <td>0</td>\n",
       "      <td>1</td>\n",
       "    </tr>\n",
       "    <tr>\n",
       "      <th>27125</th>\n",
       "      <td>4.13</td>\n",
       "      <td>Fair</td>\n",
       "      <td>H</td>\n",
       "      <td>I1</td>\n",
       "      <td>64.8</td>\n",
       "      <td>61.0</td>\n",
       "      <td>17329</td>\n",
       "      <td>10.00</td>\n",
       "      <td>9.85</td>\n",
       "      <td>6.43</td>\n",
       "      <td>0</td>\n",
       "      <td>2</td>\n",
       "    </tr>\n",
       "    <tr>\n",
       "      <th>27624</th>\n",
       "      <td>4.50</td>\n",
       "      <td>Fair</td>\n",
       "      <td>J</td>\n",
       "      <td>I1</td>\n",
       "      <td>65.8</td>\n",
       "      <td>58.0</td>\n",
       "      <td>18531</td>\n",
       "      <td>10.23</td>\n",
       "      <td>10.17</td>\n",
       "      <td>6.71</td>\n",
       "      <td>0</td>\n",
       "      <td>0</td>\n",
       "    </tr>\n",
       "    <tr>\n",
       "      <th>27410</th>\n",
       "      <td>5.01</td>\n",
       "      <td>Fair</td>\n",
       "      <td>J</td>\n",
       "      <td>I1</td>\n",
       "      <td>65.5</td>\n",
       "      <td>59.0</td>\n",
       "      <td>18018</td>\n",
       "      <td>10.74</td>\n",
       "      <td>10.54</td>\n",
       "      <td>6.97</td>\n",
       "      <td>0</td>\n",
       "      <td>0</td>\n",
       "    </tr>\n",
       "  </tbody>\n",
       "</table>\n",
       "<p>53932 rows × 12 columns</p>\n",
       "</div>"
      ],
      "text/plain": [
       "       carat      cut color clarity  depth  table  price      x      y     z  \\\n",
       "31587   0.20  Premium     E     VS2   61.1   59.0    367   3.81   3.78  2.32   \n",
       "31591   0.20    Ideal     D     VS2   61.5   57.0    367   3.81   3.77  2.33   \n",
       "31590   0.20  Premium     F     VS2   62.6   59.0    367   3.73   3.71  2.33   \n",
       "31589   0.20    Ideal     E     VS2   59.7   55.0    367   3.86   3.85  2.30   \n",
       "31588   0.20  Premium     E     VS2   59.7   62.0    367   3.84    NaN   NaN   \n",
       "...      ...      ...   ...     ...    ...    ...    ...    ...    ...   ...   \n",
       "25995   4.01  Premium     J      I1   62.5   62.0  15223  10.02   9.95  6.24   \n",
       "25994   4.01  Premium     I      I1   61.0   61.0  15223  10.14  10.09  6.17   \n",
       "27125   4.13     Fair     H      I1   64.8   61.0  17329  10.00   9.85  6.43   \n",
       "27624   4.50     Fair     J      I1   65.8   58.0  18531  10.23  10.17  6.71   \n",
       "27410   5.01     Fair     J      I1   65.5   59.0  18018  10.74  10.54  6.97   \n",
       "\n",
       "       clarity_level  color_level  \n",
       "31587              3            5  \n",
       "31591              3            6  \n",
       "31590              3            4  \n",
       "31589              3            5  \n",
       "31588              3            5  \n",
       "...              ...          ...  \n",
       "25995              0            0  \n",
       "25994              0            1  \n",
       "27125              0            2  \n",
       "27624              0            0  \n",
       "27410              0            0  \n",
       "\n",
       "[53932 rows x 12 columns]"
      ]
     },
     "execution_count": 5,
     "metadata": {},
     "output_type": "execute_result"
    }
   ],
   "source": [
    "diamonds.sort_values(by='carat')"
   ]
  },
  {
   "cell_type": "code",
   "execution_count": 6,
   "metadata": {},
   "outputs": [
    {
     "data": {
      "text/plain": [
       "'The carat affect a lot the price of diamonds. Because for example for 0.20 the price is 367 however for the carat 5.01\\nthe price rise to 18018'"
      ]
     },
     "execution_count": 6,
     "metadata": {},
     "output_type": "execute_result"
    }
   ],
   "source": [
    "'''The carat affect a lot the price of diamonds. Because for example for 0.20 the price is 367 however for the carat 5.01\n",
    "the price rise to 18018'''"
   ]
  },
  {
   "cell_type": "markdown",
   "metadata": {},
   "source": [
    "## 1. The `color` column\n",
    "First, let's look at the color column.\n",
    "\n",
    "**For each different color, find the mean of each column. You should have a matrix with every color as rows and the columns `carat`, `clarity`, etc as columns.**"
   ]
  },
  {
   "cell_type": "code",
   "execution_count": 7,
   "metadata": {},
   "outputs": [
    {
     "data": {
      "text/html": [
       "<div>\n",
       "<style scoped>\n",
       "    .dataframe tbody tr th:only-of-type {\n",
       "        vertical-align: middle;\n",
       "    }\n",
       "\n",
       "    .dataframe tbody tr th {\n",
       "        vertical-align: top;\n",
       "    }\n",
       "\n",
       "    .dataframe thead th {\n",
       "        text-align: right;\n",
       "    }\n",
       "</style>\n",
       "<table border=\"1\" class=\"dataframe\">\n",
       "  <thead>\n",
       "    <tr style=\"text-align: right;\">\n",
       "      <th></th>\n",
       "      <th>carat</th>\n",
       "      <th>depth</th>\n",
       "      <th>table</th>\n",
       "      <th>price</th>\n",
       "      <th>x</th>\n",
       "      <th>y</th>\n",
       "      <th>z</th>\n",
       "      <th>clarity_level</th>\n",
       "      <th>color_level</th>\n",
       "    </tr>\n",
       "    <tr>\n",
       "      <th>color</th>\n",
       "      <th></th>\n",
       "      <th></th>\n",
       "      <th></th>\n",
       "      <th></th>\n",
       "      <th></th>\n",
       "      <th></th>\n",
       "      <th></th>\n",
       "      <th></th>\n",
       "      <th></th>\n",
       "    </tr>\n",
       "  </thead>\n",
       "  <tbody>\n",
       "    <tr>\n",
       "      <th>D</th>\n",
       "      <td>0.657715</td>\n",
       "      <td>61.698066</td>\n",
       "      <td>57.404355</td>\n",
       "      <td>3168.106436</td>\n",
       "      <td>5.417851</td>\n",
       "      <td>5.441838</td>\n",
       "      <td>3.355346</td>\n",
       "      <td>2.691025</td>\n",
       "      <td>6.0</td>\n",
       "    </tr>\n",
       "    <tr>\n",
       "      <th>E</th>\n",
       "      <td>0.657867</td>\n",
       "      <td>61.662090</td>\n",
       "      <td>57.491201</td>\n",
       "      <td>3076.752475</td>\n",
       "      <td>5.411580</td>\n",
       "      <td>5.440231</td>\n",
       "      <td>3.351872</td>\n",
       "      <td>2.969889</td>\n",
       "      <td>5.0</td>\n",
       "    </tr>\n",
       "    <tr>\n",
       "      <th>F</th>\n",
       "      <td>0.736509</td>\n",
       "      <td>61.694087</td>\n",
       "      <td>57.433148</td>\n",
       "      <td>3725.091938</td>\n",
       "      <td>5.616727</td>\n",
       "      <td>5.641082</td>\n",
       "      <td>3.478961</td>\n",
       "      <td>3.134605</td>\n",
       "      <td>4.0</td>\n",
       "    </tr>\n",
       "    <tr>\n",
       "      <th>G</th>\n",
       "      <td>0.771088</td>\n",
       "      <td>61.757449</td>\n",
       "      <td>57.288060</td>\n",
       "      <td>3998.145173</td>\n",
       "      <td>5.678549</td>\n",
       "      <td>5.706671</td>\n",
       "      <td>3.523098</td>\n",
       "      <td>3.463419</td>\n",
       "      <td>3.0</td>\n",
       "    </tr>\n",
       "    <tr>\n",
       "      <th>H</th>\n",
       "      <td>0.911627</td>\n",
       "      <td>61.836557</td>\n",
       "      <td>57.518176</td>\n",
       "      <td>4484.958805</td>\n",
       "      <td>5.984776</td>\n",
       "      <td>6.011411</td>\n",
       "      <td>3.715833</td>\n",
       "      <td>2.933871</td>\n",
       "      <td>2.0</td>\n",
       "    </tr>\n",
       "    <tr>\n",
       "      <th>I</th>\n",
       "      <td>1.026927</td>\n",
       "      <td>61.846385</td>\n",
       "      <td>57.577278</td>\n",
       "      <td>5091.874954</td>\n",
       "      <td>6.222826</td>\n",
       "      <td>6.244931</td>\n",
       "      <td>3.860476</td>\n",
       "      <td>2.964035</td>\n",
       "      <td>1.0</td>\n",
       "    </tr>\n",
       "    <tr>\n",
       "      <th>J</th>\n",
       "      <td>1.162137</td>\n",
       "      <td>61.887215</td>\n",
       "      <td>57.812393</td>\n",
       "      <td>5323.818020</td>\n",
       "      <td>6.519338</td>\n",
       "      <td>6.532129</td>\n",
       "      <td>4.041229</td>\n",
       "      <td>2.776353</td>\n",
       "      <td>0.0</td>\n",
       "    </tr>\n",
       "  </tbody>\n",
       "</table>\n",
       "</div>"
      ],
      "text/plain": [
       "          carat      depth      table        price         x         y  \\\n",
       "color                                                                    \n",
       "D      0.657715  61.698066  57.404355  3168.106436  5.417851  5.441838   \n",
       "E      0.657867  61.662090  57.491201  3076.752475  5.411580  5.440231   \n",
       "F      0.736509  61.694087  57.433148  3725.091938  5.616727  5.641082   \n",
       "G      0.771088  61.757449  57.288060  3998.145173  5.678549  5.706671   \n",
       "H      0.911627  61.836557  57.518176  4484.958805  5.984776  6.011411   \n",
       "I      1.026927  61.846385  57.577278  5091.874954  6.222826  6.244931   \n",
       "J      1.162137  61.887215  57.812393  5323.818020  6.519338  6.532129   \n",
       "\n",
       "              z  clarity_level  color_level  \n",
       "color                                        \n",
       "D      3.355346       2.691025          6.0  \n",
       "E      3.351872       2.969889          5.0  \n",
       "F      3.478961       3.134605          4.0  \n",
       "G      3.523098       3.463419          3.0  \n",
       "H      3.715833       2.933871          2.0  \n",
       "I      3.860476       2.964035          1.0  \n",
       "J      4.041229       2.776353          0.0  "
      ]
     },
     "execution_count": 7,
     "metadata": {},
     "output_type": "execute_result"
    }
   ],
   "source": [
    "diamonds.groupby(['color']).mean()"
   ]
  },
  {
   "cell_type": "markdown",
   "metadata": {},
   "source": [
    "**What do you see? Pay special attention to the relationship between price and color.**"
   ]
  },
  {
   "cell_type": "code",
   "execution_count": 8,
   "metadata": {},
   "outputs": [
    {
     "data": {
      "text/plain": [
       "'The average of the price increase significantly from the color D to J'"
      ]
     },
     "execution_count": 8,
     "metadata": {},
     "output_type": "execute_result"
    }
   ],
   "source": [
    "'''The average of the price increase significantly from the color D to J'''"
   ]
  },
  {
   "cell_type": "markdown",
   "metadata": {},
   "source": [
    "Let's go further into the color feature. We will plot the frequency distribution of the diamonds color in our dataset. \n",
    "\n",
    "**Plot the distribution and analyze it. Remember that you can use the pandas `plot()` method.**"
   ]
  },
  {
   "cell_type": "code",
   "execution_count": 9,
   "metadata": {},
   "outputs": [
    {
     "data": {
      "image/png": "[encoded data removed]",
      "text/plain": [
       "<Figure size 432x288 with 1 Axes>"
      ]
     },
     "metadata": {
      "needs_background": "light"
     },
     "output_type": "display_data"
    }
   ],
   "source": [
    "import seaborn as sns\n",
    "sns.distplot(diamonds['color_level'], kde=False, rug=True);"
   ]
  },
  {
   "cell_type": "code",
   "execution_count": 11,
   "metadata": {},
   "outputs": [
    {
     "data": {
      "text/plain": [
       "\"I remark that the most frequent value of color_level is 3 which stand for 'G\""
      ]
     },
     "execution_count": 11,
     "metadata": {},
     "output_type": "execute_result"
    }
   ],
   "source": [
    "'''I remark that the most frequent value of color_level is 3 which stand for 'G'''"
   ]
  },
  {
   "cell_type": "markdown",
   "metadata": {},
   "source": [
    "## 2.The `carat` column "
   ]
  },
  {
   "cell_type": "markdown",
   "metadata": {},
   "source": [
    "Let's check the `carat` (weight), since this could also be a potential factor for price change.\n",
    "\n",
    "**Find the mean of each column for each value of `carat` using the `groupby` method. Then comment your results.**"
   ]
  },
  {
   "cell_type": "code",
   "execution_count": 12,
   "metadata": {},
   "outputs": [
    {
     "data": {
      "text/html": [
       "<div>\n",
       "<style scoped>\n",
       "    .dataframe tbody tr th:only-of-type {\n",
       "        vertical-align: middle;\n",
       "    }\n",
       "\n",
       "    .dataframe tbody tr th {\n",
       "        vertical-align: top;\n",
       "    }\n",
       "\n",
       "    .dataframe thead th {\n",
       "        text-align: right;\n",
       "    }\n",
       "</style>\n",
       "<table border=\"1\" class=\"dataframe\">\n",
       "  <thead>\n",
       "    <tr style=\"text-align: right;\">\n",
       "      <th></th>\n",
       "      <th>depth</th>\n",
       "      <th>table</th>\n",
       "      <th>price</th>\n",
       "      <th>x</th>\n",
       "      <th>y</th>\n",
       "      <th>z</th>\n",
       "      <th>clarity_level</th>\n",
       "      <th>color_level</th>\n",
       "    </tr>\n",
       "    <tr>\n",
       "      <th>carat</th>\n",
       "      <th></th>\n",
       "      <th></th>\n",
       "      <th></th>\n",
       "      <th></th>\n",
       "      <th></th>\n",
       "      <th></th>\n",
       "      <th></th>\n",
       "      <th></th>\n",
       "    </tr>\n",
       "  </thead>\n",
       "  <tbody>\n",
       "    <tr>\n",
       "      <th>0.20</th>\n",
       "      <td>61.100000</td>\n",
       "      <td>59.333333</td>\n",
       "      <td>365.166667</td>\n",
       "      <td>3.786667</td>\n",
       "      <td>3.743750</td>\n",
       "      <td>2.323750</td>\n",
       "      <td>2.833333</td>\n",
       "      <td>5.166667</td>\n",
       "    </tr>\n",
       "    <tr>\n",
       "      <th>0.21</th>\n",
       "      <td>60.511111</td>\n",
       "      <td>58.444444</td>\n",
       "      <td>380.222222</td>\n",
       "      <td>3.874444</td>\n",
       "      <td>3.833750</td>\n",
       "      <td>2.337500</td>\n",
       "      <td>2.666667</td>\n",
       "      <td>5.444444</td>\n",
       "    </tr>\n",
       "    <tr>\n",
       "      <th>0.22</th>\n",
       "      <td>61.620000</td>\n",
       "      <td>60.400000</td>\n",
       "      <td>391.400000</td>\n",
       "      <td>3.898000</td>\n",
       "      <td>3.848000</td>\n",
       "      <td>2.386000</td>\n",
       "      <td>2.600000</td>\n",
       "      <td>4.800000</td>\n",
       "    </tr>\n",
       "    <tr>\n",
       "      <th>0.23</th>\n",
       "      <td>61.426621</td>\n",
       "      <td>58.034130</td>\n",
       "      <td>486.143345</td>\n",
       "      <td>3.946382</td>\n",
       "      <td>3.974019</td>\n",
       "      <td>2.430280</td>\n",
       "      <td>4.901024</td>\n",
       "      <td>4.518771</td>\n",
       "    </tr>\n",
       "    <tr>\n",
       "      <th>0.24</th>\n",
       "      <td>61.599213</td>\n",
       "      <td>57.488189</td>\n",
       "      <td>505.185039</td>\n",
       "      <td>3.990157</td>\n",
       "      <td>4.015982</td>\n",
       "      <td>2.470179</td>\n",
       "      <td>4.972441</td>\n",
       "      <td>4.185039</td>\n",
       "    </tr>\n",
       "    <tr>\n",
       "      <th>...</th>\n",
       "      <td>...</td>\n",
       "      <td>...</td>\n",
       "      <td>...</td>\n",
       "      <td>...</td>\n",
       "      <td>...</td>\n",
       "      <td>...</td>\n",
       "      <td>...</td>\n",
       "      <td>...</td>\n",
       "    </tr>\n",
       "    <tr>\n",
       "      <th>4.00</th>\n",
       "      <td>63.300000</td>\n",
       "      <td>58.000000</td>\n",
       "      <td>15984.000000</td>\n",
       "      <td>10.010000</td>\n",
       "      <td>9.930000</td>\n",
       "      <td>6.310000</td>\n",
       "      <td>0.000000</td>\n",
       "      <td>1.000000</td>\n",
       "    </tr>\n",
       "    <tr>\n",
       "      <th>4.01</th>\n",
       "      <td>61.750000</td>\n",
       "      <td>61.500000</td>\n",
       "      <td>15223.000000</td>\n",
       "      <td>10.080000</td>\n",
       "      <td>10.020000</td>\n",
       "      <td>6.205000</td>\n",
       "      <td>0.000000</td>\n",
       "      <td>0.500000</td>\n",
       "    </tr>\n",
       "    <tr>\n",
       "      <th>4.13</th>\n",
       "      <td>64.800000</td>\n",
       "      <td>61.000000</td>\n",
       "      <td>17329.000000</td>\n",
       "      <td>10.000000</td>\n",
       "      <td>9.850000</td>\n",
       "      <td>6.430000</td>\n",
       "      <td>0.000000</td>\n",
       "      <td>2.000000</td>\n",
       "    </tr>\n",
       "    <tr>\n",
       "      <th>4.50</th>\n",
       "      <td>65.800000</td>\n",
       "      <td>58.000000</td>\n",
       "      <td>18531.000000</td>\n",
       "      <td>10.230000</td>\n",
       "      <td>10.170000</td>\n",
       "      <td>6.710000</td>\n",
       "      <td>0.000000</td>\n",
       "      <td>0.000000</td>\n",
       "    </tr>\n",
       "    <tr>\n",
       "      <th>5.01</th>\n",
       "      <td>65.500000</td>\n",
       "      <td>59.000000</td>\n",
       "      <td>18018.000000</td>\n",
       "      <td>10.740000</td>\n",
       "      <td>10.540000</td>\n",
       "      <td>6.970000</td>\n",
       "      <td>0.000000</td>\n",
       "      <td>0.000000</td>\n",
       "    </tr>\n",
       "  </tbody>\n",
       "</table>\n",
       "<p>273 rows × 8 columns</p>\n",
       "</div>"
      ],
      "text/plain": [
       "           depth      table         price          x          y         z  \\\n",
       "carat                                                                       \n",
       "0.20   61.100000  59.333333    365.166667   3.786667   3.743750  2.323750   \n",
       "0.21   60.511111  58.444444    380.222222   3.874444   3.833750  2.337500   \n",
       "0.22   61.620000  60.400000    391.400000   3.898000   3.848000  2.386000   \n",
       "0.23   61.426621  58.034130    486.143345   3.946382   3.974019  2.430280   \n",
       "0.24   61.599213  57.488189    505.185039   3.990157   4.015982  2.470179   \n",
       "...          ...        ...           ...        ...        ...       ...   \n",
       "4.00   63.300000  58.000000  15984.000000  10.010000   9.930000  6.310000   \n",
       "4.01   61.750000  61.500000  15223.000000  10.080000  10.020000  6.205000   \n",
       "4.13   64.800000  61.000000  17329.000000  10.000000   9.850000  6.430000   \n",
       "4.50   65.800000  58.000000  18531.000000  10.230000  10.170000  6.710000   \n",
       "5.01   65.500000  59.000000  18018.000000  10.740000  10.540000  6.970000   \n",
       "\n",
       "       clarity_level  color_level  \n",
       "carat                              \n",
       "0.20        2.833333     5.166667  \n",
       "0.21        2.666667     5.444444  \n",
       "0.22        2.600000     4.800000  \n",
       "0.23        4.901024     4.518771  \n",
       "0.24        4.972441     4.185039  \n",
       "...              ...          ...  \n",
       "4.00        0.000000     1.000000  \n",
       "4.01        0.000000     0.500000  \n",
       "4.13        0.000000     2.000000  \n",
       "4.50        0.000000     0.000000  \n",
       "5.01        0.000000     0.000000  \n",
       "\n",
       "[273 rows x 8 columns]"
      ]
     },
     "execution_count": 12,
     "metadata": {},
     "output_type": "execute_result"
    }
   ],
   "source": [
    "diamonds.groupby('carat').mean()"
   ]
  },
  {
   "cell_type": "code",
   "execution_count": 14,
   "metadata": {},
   "outputs": [
    {
     "data": {
      "text/plain": [
       "'The average of the price is closely related to the carat value'"
      ]
     },
     "execution_count": 14,
     "metadata": {},
     "output_type": "execute_result"
    }
   ],
   "source": [
    "'''The average of the price is closely related to the carat value'''"
   ]
  },
  {
   "cell_type": "markdown",
   "metadata": {},
   "source": [
    "\n",
    "**Plot a histogram of the `carat` column by using the `plot` method (see the docs to find an easy way to do so). What is happening?**"
   ]
  },
  {
   "cell_type": "code",
   "execution_count": 15,
   "metadata": {},
   "outputs": [
    {
     "data": {
      "text/plain": [
       "(array([0.000e+00, 0.000e+00, 0.000e+00, 0.000e+00, 5.730e+02, 3.630e+03,\n",
       "        6.855e+03, 2.034e+03, 4.087e+03, 4.950e+02, 4.536e+03, 2.238e+03,\n",
       "        5.210e+02, 2.193e+03, 2.870e+03, 1.093e+03, 8.810e+02, 1.090e+02,\n",
       "        2.547e+03, 2.160e+02, 5.680e+03, 1.608e+03, 1.438e+03, 1.175e+03,\n",
       "        1.288e+03, 6.740e+02, 4.990e+02, 2.850e+02, 1.170e+02, 5.700e+01,\n",
       "        2.375e+03, 5.160e+02, 3.450e+02, 3.130e+02, 2.680e+02, 1.220e+02,\n",
       "        6.500e+01, 3.400e+01, 2.600e+01, 1.600e+01, 1.157e+03, 1.960e+02,\n",
       "        1.890e+02, 1.180e+02, 1.110e+02, 1.020e+02, 4.300e+01, 4.900e+01,\n",
       "        2.300e+01, 2.200e+01, 6.300e+01, 1.000e+01, 1.100e+01, 6.000e+00,\n",
       "        8.000e+00, 5.000e+00, 0.000e+00, 0.000e+00, 0.000e+00, 0.000e+00,\n",
       "        2.600e+01, 0.000e+00, 1.000e+00, 0.000e+00, 2.000e+00, 0.000e+00,\n",
       "        0.000e+00, 1.000e+00, 0.000e+00, 0.000e+00, 2.000e+00, 0.000e+00,\n",
       "        1.000e+00, 1.000e+00, 0.000e+00, 0.000e+00, 0.000e+00, 0.000e+00,\n",
       "        0.000e+00, 0.000e+00, 3.000e+00, 0.000e+00, 1.000e+00, 0.000e+00,\n",
       "        0.000e+00, 0.000e+00, 0.000e+00, 0.000e+00, 0.000e+00, 0.000e+00,\n",
       "        1.000e+00, 0.000e+00, 0.000e+00, 0.000e+00, 0.000e+00, 0.000e+00,\n",
       "        0.000e+00, 0.000e+00, 0.000e+00, 0.000e+00]),\n",
       " array([0.  , 0.05, 0.1 , 0.15, 0.2 , 0.25, 0.3 , 0.35, 0.4 , 0.45, 0.5 ,\n",
       "        0.55, 0.6 , 0.65, 0.7 , 0.75, 0.8 , 0.85, 0.9 , 0.95, 1.  , 1.05,\n",
       "        1.1 , 1.15, 1.2 , 1.25, 1.3 , 1.35, 1.4 , 1.45, 1.5 , 1.55, 1.6 ,\n",
       "        1.65, 1.7 , 1.75, 1.8 , 1.85, 1.9 , 1.95, 2.  , 2.05, 2.1 , 2.15,\n",
       "        2.2 , 2.25, 2.3 , 2.35, 2.4 , 2.45, 2.5 , 2.55, 2.6 , 2.65, 2.7 ,\n",
       "        2.75, 2.8 , 2.85, 2.9 , 2.95, 3.  , 3.05, 3.1 , 3.15, 3.2 , 3.25,\n",
       "        3.3 , 3.35, 3.4 , 3.45, 3.5 , 3.55, 3.6 , 3.65, 3.7 , 3.75, 3.8 ,\n",
       "        3.85, 3.9 , 3.95, 4.  , 4.05, 4.1 , 4.15, 4.2 , 4.25, 4.3 , 4.35,\n",
       "        4.4 , 4.45, 4.5 , 4.55, 4.6 , 4.65, 4.7 , 4.75, 4.8 , 4.85, 4.9 ,\n",
       "        4.95, 5.  ]),\n",
       " <a list of 100 Patch objects>)"
      ]
     },
     "execution_count": 15,
     "metadata": {},
     "output_type": "execute_result"
    },
    {
     "data": {
      "image/png": "[encoded data removed]",
      "text/plain": [
       "<Figure size 432x288 with 1 Axes>"
      ]
     },
     "metadata": {
      "needs_background": "light"
     },
     "output_type": "display_data"
    }
   ],
   "source": [
    "plt.hist(diamonds['carat'], range = (0, 5), bins = 100, color = 'yellow',edgecolor = 'red')"
   ]
  },
  {
   "cell_type": "code",
   "execution_count": 23,
   "metadata": {},
   "outputs": [
    {
     "data": {
      "text/plain": [
       "<matplotlib.axes._subplots.AxesSubplot at 0x219e7931748>"
      ]
     },
     "execution_count": 23,
     "metadata": {},
     "output_type": "execute_result"
    },
    {
     "data": {
      "image/png": "[encoded data removed]",
      "text/plain": [
       "<Figure size 1080x720 with 1 Axes>"
      ]
     },
     "metadata": {
      "needs_background": "light"
     },
     "output_type": "display_data"
    }
   ],
   "source": [
    "# using plot function\n",
    "diamonds.carat.value_counts().plot(kind='bar', figsize=(15,10))"
   ]
  },
  {
   "cell_type": "code",
   "execution_count": null,
   "metadata": {},
   "outputs": [],
   "source": [
    "'''The mode value of carat is near 0'''"
   ]
  },
  {
   "cell_type": "markdown",
   "metadata": {},
   "source": [
    "# 3. The `table` and `clarity` column\n",
    "Finally, let's check the `table`.\n",
    "\n",
    "**Find the mean of each column for each value of `table` using the `groupby` method. Then comment your results.**"
   ]
  },
  {
   "cell_type": "code",
   "execution_count": null,
   "metadata": {},
   "outputs": [],
   "source": [
    "diamonds.groupby('table').mean()"
   ]
  },
  {
   "cell_type": "code",
   "execution_count": null,
   "metadata": {},
   "outputs": [],
   "source": [
    "''''At first sight the table parameter do not impact directly the price'''"
   ]
  },
  {
   "cell_type": "markdown",
   "metadata": {},
   "source": [
    "**Finally, do the same with the `clarity` column.**"
   ]
  },
  {
   "cell_type": "code",
   "execution_count": null,
   "metadata": {},
   "outputs": [],
   "source": [
    "diamonds.groupby('clarity_level').mean()"
   ]
  },
  {
   "cell_type": "code",
   "execution_count": null,
   "metadata": {},
   "outputs": [],
   "source": [
    "'''No direct relation between the clarity and the price'''"
   ]
  },
  {
   "cell_type": "markdown",
   "metadata": {},
   "source": [
    "**After looking at your results, which features do you think will affect price the most now? Regarding your hypotheses, do they match your final results? Provide a small overview.**"
   ]
  },
  {
   "cell_type": "code",
   "execution_count": null,
   "metadata": {},
   "outputs": [],
   "source": [
    "''' As a conclusion, the price of diamonds is related directly to the carat and color factors. \n",
    "However, the table and clarity do not impact the price value'''"
   ]
  },
  {
   "cell_type": "markdown",
   "metadata": {},
   "source": [
    "# Bonus: taking a deeper look with plots and correlations\n",
    "\n",
    "To take deeper look, we will use the `pairplot` method of `seaborn` library. This method plots a scatterplot for each pair of features and in the diagonal the distribution of the feature.\n",
    "\n",
    "So if you have many features it will take a while, be careful!\n"
   ]
  },
  {
   "cell_type": "code",
   "execution_count": null,
   "metadata": {},
   "outputs": [],
   "source": [
    "#Run this code\n",
    "import seaborn as sns\n",
    "sns.pairplot(diamonds, diag_kind = 'kde', plot_kws = {'alpha': 0.6, 's': 80, 'edgecolor': 'k'})"
   ]
  },
  {
   "cell_type": "markdown",
   "metadata": {},
   "source": [
    "**What do you see here? What relationships between variables are the most interesting?**"
   ]
  },
  {
   "cell_type": "code",
   "execution_count": null,
   "metadata": {},
   "outputs": [],
   "source": [
    "'''The most interesting relation exists between \n",
    "price/carat,\n",
    "price/x\n",
    "price/y, the plot trends to a lineraire increasing one\n",
    "price/z the plot trends to a lineraire increasing one'''"
   ]
  },
  {
   "cell_type": "markdown",
   "metadata": {},
   "source": [
    "Now we will see a correlation matrix with a plot. As you know a higher correlation means that the feature could be an effect (**but is not for sure**) for the changes on the price.\n",
    "\n",
    "We will see this with a matrix with colors. A lighter color means greater correlation. \n",
    "\n",
    "This is done with the `seaborn` library as well."
   ]
  },
  {
   "cell_type": "code",
   "execution_count": null,
   "metadata": {
    "scrolled": true
   },
   "outputs": [],
   "source": [
    "#Run this code\n",
    "plt.figure(figsize=(20, 20))\n",
    "p = sns.heatmap(diamonds.corr(), annot=True, square=True)"
   ]
  },
  {
   "cell_type": "markdown",
   "metadata": {},
   "source": [
    "**What do you see here? Regarding the results before, does it fit with them?**"
   ]
  },
  {
   "cell_type": "code",
   "execution_count": null,
   "metadata": {},
   "outputs": [],
   "source": [
    "'''Yes, it confirm the previous results and hypothesis obtained from pairplots '''"
   ]
  },
  {
   "cell_type": "markdown",
   "metadata": {},
   "source": [
    "Finally, we will calculate the linear regression between the price and the weight. This will be done first by plotting it with the `seaborn` library and then calculating the error with the `scipy` library."
   ]
  },
  {
   "cell_type": "code",
   "execution_count": null,
   "metadata": {
    "scrolled": false
   },
   "outputs": [],
   "source": [
    "#Run this code\n",
    "plt.figure(figsize=(10, 10))\n",
    "sns.regplot(diamonds.carat, diamonds.price, scatter=True)\n"
   ]
  },
  {
   "cell_type": "code",
   "execution_count": null,
   "metadata": {},
   "outputs": [],
   "source": [
    "#Run this code\n",
    "from scipy import stats\n",
    "slope, intercept, r_value, p_value, std_err = stats.linregress(diamonds.carat, diamonds.price)\n",
    "r2 = r_value ** 2\n",
    "r2"
   ]
  },
  {
   "cell_type": "markdown",
   "metadata": {},
   "source": [
    "**What do you think?**"
   ]
  },
  {
   "cell_type": "code",
   "execution_count": null,
   "metadata": {},
   "outputs": [],
   "source": [
    "'''According to the previous plot, about the relation between the carat and the price, \n",
    "we can conclude that it's a positive linear one. If the the carat value increase, the price increase too \n",
    "'''"
   ]
  },
  {
   "cell_type": "markdown",
   "metadata": {},
   "source": [
    "**Would you do any other checks on other features? Do you have any comments regarding `carat`?**"
   ]
  },
  {
   "cell_type": "code",
   "execution_count": null,
   "metadata": {},
   "outputs": [],
   "source": [
    "'''I would like to check the relation between price and both x, y and z. so i'll draw the linear regression between each one'''\n",
    "\n",
    "plt.figure(figsize=(10, 10))\n",
    "sns.regplot(diamonds.x, diamonds.price, scatter=True)"
   ]
  },
  {
   "cell_type": "code",
   "execution_count": null,
   "metadata": {},
   "outputs": [],
   "source": [
    "plt.figure(figsize=(10, 10))\n",
    "sns.regplot(diamonds.y, diamonds.price, scatter=True)"
   ]
  },
  {
   "cell_type": "code",
   "execution_count": null,
   "metadata": {},
   "outputs": [],
   "source": [
    "plt.figure(figsize=(10, 10))\n",
    "sns.regplot(diamonds.z, diamonds.price, scatter=True)"
   ]
  },
  {
   "cell_type": "markdown",
   "metadata": {},
   "source": [
    "**Conlcusion**"
   ]
  },
  {
   "cell_type": "markdown",
   "metadata": {},
   "source": [
    "**From our dataset** we can conclude that although `color` and `clarity` have a classification, and thus an assigned importance or weight, they do not influence the monetary value of a diamond in determining way. While it is true that different colors or clarities may have different prices, upon closer examination those variations in price seem to be linked to `carat` (weight) and its `dimensions`. In our analysis, the key factor to determining a diamond's value was placed solely in the aforementioned features, since we can see in our correlation coefficients and in the coefficient of determination that these features are closely related."
   ]
  }
 ],
 "metadata": {
  "kernelspec": {
   "display_name": "Python 3",
   "language": "python",
   "name": "python3"
  },
  "language_info": {
   "codemirror_mode": {
    "name": "ipython",
    "version": 3
   },
   "file_extension": ".py",
   "mimetype": "text/x-python",
   "name": "python",
   "nbconvert_exporter": "python",
   "pygments_lexer": "ipython3",
   "version": "3.7.6"
  }
 },
 "nbformat": 4,
 "nbformat_minor": 2
}
