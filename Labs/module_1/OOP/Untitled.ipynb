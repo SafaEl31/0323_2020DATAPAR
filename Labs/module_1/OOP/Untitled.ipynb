{
 "cells": [
  {
   "cell_type": "code",
   "execution_count": null,
   "metadata": {},
   "outputs": [],
   "source": [
    "#Define a method/function that removes from a given array of integers all the values contained in a second array.\n",
    "# l = List()\n",
    "\n",
    "# integer_list =  [1, 1, 2 ,3 ,1 ,2 ,3 ,4]\n",
    "# values_list = [1, 3]\n",
    "# l.remove_(integer_list, values_list) == [2, 2, 4]\n",
    "\n",
    "# integer_list = [1, 1, 2 ,3 ,1 ,2 ,3 ,4, 4, 3 ,5, 6, 7, 2, 8]\n",
    "# lst = [1, 3, 4, 2]\n",
    "# l.remove_(integer_list, values_list) == [5, 6 ,7 ,8]\n",
    "\n",
    "# integer_list = [8, 2, 7, 2, 3, 4, 6, 5, 4, 4, 1, 2 , 3]\n",
    "# lst = [2, 4, 3]\n",
    "# l.remove_(integer_list, values_list) == [8, 7, 6, 5, 1]\n",
    "\n",
    "def remove(integer_list,values_list):\n",
    "    result=[]\n",
    "    for i in values_list:\n",
    "        if v\n",
    "    \n",
    "    return result\n"
   ]
  }
 ],
 "metadata": {
  "kernelspec": {
   "display_name": "Python 3",
   "language": "python",
   "name": "python3"
  },
  "language_info": {
   "codemirror_mode": {
    "name": "ipython",
    "version": 3
   },
   "file_extension": ".py",
   "mimetype": "text/x-python",
   "name": "python",
   "nbconvert_exporter": "python",
   "pygments_lexer": "ipython3",
   "version": "3.7.4"
  }
 },
 "nbformat": 4,
 "nbformat_minor": 2
}
