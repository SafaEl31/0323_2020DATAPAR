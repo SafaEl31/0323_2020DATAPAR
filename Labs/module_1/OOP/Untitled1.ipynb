{
 "cells": [
  {
   "cell_type": "code",
   "execution_count": 7,
   "metadata": {},
   "outputs": [
    {
     "name": "stdout",
     "output_type": "stream",
     "text": [
      "[(1, 1), (3, 2)]\n"
     ]
    }
   ],
   "source": [
    "integers_list =  [1, 11, 2 ,3 ,121,2 ,3 ,4]\n",
    "digits_list = [1, 3]\n",
    "result=[]\n",
    "for i in digits_list:\n",
    "  result.append((i,integers_list.count(i))) \n",
    "\n",
    "print(result)"
   ]
  },
  {
   "cell_type": "code",
   "execution_count": 24,
   "metadata": {},
   "outputs": [
    {
     "name": "stdout",
     "output_type": "stream",
     "text": [
      "1 is in 1\n",
      "1\n",
      "1 is in 11\n",
      "3\n",
      "1 is in 121\n",
      "5\n",
      "3 is in 3\n",
      "1\n",
      "3 is in 3\n",
      "2\n",
      "[(1, 5), (3, 2)]\n"
     ]
    }
   ],
   "source": [
    "integers_list =  [1, 11, 2 ,3 ,121,2 ,3 ,4]\n",
    "digits_list = [1, 3]\n",
    "result=[]\n",
    "\n",
    "for i in digits_list:\n",
    "    freq=0\n",
    "    for j in integers_list:\n",
    "        if str(i) in str(j):\n",
    "            #count=count+1\n",
    "            freq=freq+(str(j).count(str(i)))\n",
    "            print(str(i) ,'is in', str(j))\n",
    "            print(freq)\n",
    "    result.append((int(i),freq))\n",
    "print(result)\n",
    "#   result.append((i,integers_list.count(i))) \n",
    "\n",
    "# print(result)"
   ]
  },
  {
   "cell_type": "code",
   "execution_count": null,
   "metadata": {},
   "outputs": [],
   "source": []
  }
 ],
 "metadata": {
  "kernelspec": {
   "display_name": "Python 3",
   "language": "python",
   "name": "python3"
  },
  "language_info": {
   "codemirror_mode": {
    "name": "ipython",
    "version": 3
   },
   "file_extension": ".py",
   "mimetype": "text/x-python",
   "name": "python",
   "nbconvert_exporter": "python",
   "pygments_lexer": "ipython3",
   "version": "3.7.4"
  }
 },
 "nbformat": 4,
 "nbformat_minor": 2
}
