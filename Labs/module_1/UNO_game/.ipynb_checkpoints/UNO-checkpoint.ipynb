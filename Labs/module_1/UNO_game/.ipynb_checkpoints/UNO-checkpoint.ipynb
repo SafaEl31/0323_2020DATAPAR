{
 "cells": [
  {
   "cell_type": "code",
   "execution_count": 30,
   "metadata": {},
   "outputs": [],
   "source": [
    "# number of players: 2 \n",
    "# numbers of cards per player: 7 cards\n",
    "# Discard Pile\n",
    "# Draw Pile\n",
    "# Count the number of cards of each player\n",
    "# cards:\n",
    "# 96 cards\n",
    "# 10 red cards 0 to 9 (en deux exemplaires sauf le 0, en un seul exemplaire) ;\n",
    "# 10 green cards 0 to 9 (en deux exemplaires sauf le 0, en un seul exemplaire) ;\n",
    "# 10 yellow cards 0 à 9 (en deux exemplaires sauf le 0, en un seul exemplaire) ;\n",
    "# 10 blue cards de 0 à 9 (en deux exemplaires sauf le 0, en un seul exemplaire) ;\n",
    "# 8 +2 cards (2 of each color)\n",
    "\n",
    "# 8 Skip ((2 of each color)\n",
    "# 4  Wild card\n",
    "\n",
    "\n",
    "# 10 for skip\n",
    "# 11 fro plus2\n",
    "# 12 for wild no color\n",
    "import random\n",
    "deck = []\n",
    "colors = ['red', 'blue']\n",
    "values = ['1', '2', '3', '4', '5', 'draw2', 'skip']\n",
    "\n",
    "for c in colors:\n",
    "    for v in values:\n",
    "        deck.append(tuple([c, v]))\n",
    "random.shuffle(deck) "
   ]
  },
  {
   "cell_type": "code",
   "execution_count": 31,
   "metadata": {},
   "outputs": [
    {
     "data": {
      "text/plain": [
       "[('blue', '5'), ('blue', '4'), ('red', '4'), ('red', '2'), ('blue', 'draw2')]"
      ]
     },
     "execution_count": 31,
     "metadata": {},
     "output_type": "execute_result"
    }
   ],
   "source": [
    "# distribute cards to players initially\n",
    "def distribute_cards_player():\n",
    "    players_cards = random.sample(deck, 5)\n",
    "    return players_cards\n",
    "distribute_cards_player()"
   ]
  },
  {
   "cell_type": "code",
   "execution_count": 32,
   "metadata": {},
   "outputs": [
    {
     "data": {
      "text/plain": [
       "[('red', '2'), ('blue', '4'), ('blue', 'draw2'), ('red', '3'), ('blue', '1')]"
      ]
     },
     "execution_count": 32,
     "metadata": {},
     "output_type": "execute_result"
    }
   ],
   "source": [
    "# distribute cards to computer initially\n",
    "def distribute_cards_computer():\n",
    "    CPU_cards = random.sample(deck, 5)\n",
    "    return CPU_cards\n",
    "distribute_cards_computer()"
   ]
  },
  {
   "cell_type": "code",
   "execution_count": 36,
   "metadata": {},
   "outputs": [
    {
     "name": "stdout",
     "output_type": "stream",
     "text": [
      "your actual cards are:  [('red', 'skip'), ('blue', 'skip'), ('blue', '1'), ('blue', '2'), ('red', '3')]\n",
      "Please select the color of your played card: red\n",
      "Please select the value of your played card: skip\n",
      "('red', 'skip')\n"
     ]
    },
    {
     "data": {
      "text/plain": [
       "('red', 'skip')"
      ]
     },
     "execution_count": 36,
     "metadata": {},
     "output_type": "execute_result"
    }
   ],
   "source": [
    "# retrun the tuple presenting the played card\n",
    "players_cards=distribute_cards_player()\n",
    "\n",
    "def player_turn(discard_card):\n",
    "    print(\"your actual cards are: \",players_cards)\n",
    "    \n",
    "     # this case for the first player\n",
    "    if not discard_card:\n",
    "        played_color= input(\"Please select the color of your played card: \")\n",
    "        played_value= input(\"Please select the value of your played card: \")\n",
    "        played_card =(played_color,played_value)\n",
    "        print(played_card)\n",
    "        return played_card\n",
    "    \n",
    "    # there is alreadly a card in discard pile, so this turn depends on it\n",
    "    # check the kind of discard card to apply the action of specific cards\n",
    "    # CASE1: skip card\n",
    "    elif discard_card[1]=='skip':\n",
    "        print('computer_turn')\n",
    "    \n",
    "    # CASE2: Draw2 card\n",
    "    elif discard_card[1]=='draw2':\n",
    "        print('draw2 dear player')\n",
    "        print('computer turn')\n",
    "    \n",
    "    #CASE3: standard card\n",
    "    else:\n",
    "        # check for matching colors or values with discard card \n",
    "        for i in players_cards:\n",
    "            if i[0]==discard_card[0] or i[1]==discard_card[1]:\n",
    "              print(\"good matching \", i)\n",
    "              return i\n",
    "             \n",
    "        \n",
    "        \n",
    " \n",
    "player_turn('')\n"
   ]
  },
  {
   "cell_type": "code",
   "execution_count": 16,
   "metadata": {},
   "outputs": [
    {
     "name": "stdout",
     "output_type": "stream",
     "text": [
      "the computer plays:  ('red', 'Draw2')\n"
     ]
    },
    {
     "data": {
      "text/plain": [
       "('red', 'Draw2')"
      ]
     },
     "execution_count": 16,
     "metadata": {},
     "output_type": "execute_result"
    }
   ],
   "source": [
    "computer_cards=distribute_cards_computer()\n",
    "def computer_turn():\n",
    "    computer_card = random.choice(computer_cards)\n",
    "    print(\"the computer plays: \",computer_card)\n",
    "    return computer_card\n",
    "computer_round()"
   ]
  },
  {
   "cell_type": "code",
   "execution_count": null,
   "metadata": {},
   "outputs": [],
   "source": []
  }
 ],
 "metadata": {
  "kernelspec": {
   "display_name": "Python 3",
   "language": "python",
   "name": "python3"
  },
  "language_info": {
   "codemirror_mode": {
    "name": "ipython",
    "version": 3
   },
   "file_extension": ".py",
   "mimetype": "text/x-python",
   "name": "python",
   "nbconvert_exporter": "python",
   "pygments_lexer": "ipython3",
   "version": "3.7.6"
  }
 },
 "nbformat": 4,
 "nbformat_minor": 4
}
