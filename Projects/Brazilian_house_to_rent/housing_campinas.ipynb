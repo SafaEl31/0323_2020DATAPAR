{
 "cells": [
  {
   "cell_type": "code",
   "execution_count": 1,
   "metadata": {},
   "outputs": [],
   "source": [
    "import pandas as pd\n",
    "import statsmodels.api as sm\n",
    "import seaborn as sns\n",
    "from statsmodels.tools.tools import add_constant\n",
    "from statsmodels.stats.stattools import durbin_watson\n",
    "import matplotlib.pyplot as plt"
   ]
  },
  {
   "cell_type": "code",
   "execution_count": 4,
   "metadata": {},
   "outputs": [],
   "source": [
    "houses = pd.read_csv('dataset/houses_to_rent.csv')"
   ]
  },
  {
   "cell_type": "code",
   "execution_count": 3,
   "metadata": {},
   "outputs": [
    {
     "data": {
      "text/plain": [
       "(10692, 13)"
      ]
     },
     "execution_count": 3,
     "metadata": {},
     "output_type": "execute_result"
    }
   ],
   "source": [
    "houses.shape"
   ]
  },
  {
   "cell_type": "markdown",
   "metadata": {},
   "source": [
    "# Cleaning Data"
   ]
  },
  {
   "cell_type": "code",
   "execution_count": 4,
   "metadata": {},
   "outputs": [],
   "source": [
    "def cleaning(data):\n",
    "    data.columns=data.columns.str.strip('( R$)')\n",
    "    data.columns=data.columns.str.replace(' ','_')\n",
    "    data.dtypes;\n",
    "    data.floor.unique()\n",
    "    'Replace the - by 0 since there is not a zero value in all the dataset, it may represent the ground floor'\n",
    "    data.floor.replace('-','0',inplace=True)\n",
    "    data.floor = data.floor.astype('int64')\n",
    "    \"let's create dummies for animal, furniture and convert floor to int\"\n",
    "    data.animal.unique()\n",
    "    \"let's create a dummy with animals\"\n",
    "    dummies_animal = pd.get_dummies(data['animal'],drop_first=True)\n",
    "    data = pd.concat([data,dummies_animal],axis=1)\n",
    "    data.drop('animal',inplace=True,axis=1)\n",
    "    data.furniture.unique()\n",
    "    furniture_dummies = pd.get_dummies(data['furniture'],drop_first=True)\n",
    "    data = pd.concat([data,furniture_dummies],axis=1)\n",
    "    data = data.drop('furniture',axis=1)\n",
    "    return data\n",
    "\n",
    "df = cleaning(houses)"
   ]
  },
  {
   "cell_type": "markdown",
   "metadata": {},
   "source": [
    "# Model Rent House in Campinas"
   ]
  },
  {
   "cell_type": "code",
   "execution_count": 5,
   "metadata": {},
   "outputs": [],
   "source": [
    "def filter_campinas(data):\n",
    "    df_campinas = data[data.city=='Campinas']\n",
    "    return df_campinas\n",
    "df_campinas = filter_campinas(df)"
   ]
  },
  {
   "cell_type": "code",
   "execution_count": 6,
   "metadata": {},
   "outputs": [
    {
     "data": {
      "text/plain": [
       "rent_amount       1.000000\n",
       "fire_insurance    0.992372\n",
       "total             0.972026\n",
       "bathroom          0.782451\n",
       "property_tax      0.706228\n",
       "parking_spaces    0.647257\n",
       "rooms             0.571506\n",
       "hoa               0.419553\n",
       "area              0.205780\n",
       "floor            -0.056372\n",
       "not furnished    -0.087981\n",
       "not acept        -0.088636\n",
       "Name: rent_amount, dtype: float64"
      ]
     },
     "execution_count": 6,
     "metadata": {},
     "output_type": "execute_result"
    }
   ],
   "source": [
    "df_campinas.corr()['rent_amount'].sort_values(ascending=False)"
   ]
  },
  {
   "cell_type": "code",
   "execution_count": 7,
   "metadata": {},
   "outputs": [],
   "source": [
    "# let's remove the tax and total from rent_amount bea\n",
    "df_campinas = df_campinas.drop(['total','property_tax','hoa','fire_insurance'],axis=1)"
   ]
  },
  {
   "cell_type": "code",
   "execution_count": 8,
   "metadata": {},
   "outputs": [],
   "source": [
    "df_campinas.isna().sum();"
   ]
  },
  {
   "cell_type": "code",
   "execution_count": 9,
   "metadata": {},
   "outputs": [
    {
     "data": {
      "text/plain": [
       "'No missing values in our dataset!'"
      ]
     },
     "execution_count": 9,
     "metadata": {},
     "output_type": "execute_result"
    }
   ],
   "source": [
    "'No missing values in our dataset!'"
   ]
  },
  {
   "cell_type": "code",
   "execution_count": 10,
   "metadata": {},
   "outputs": [],
   "source": [
    "df_campinas.drop('city',axis=1,inplace=True)"
   ]
  },
  {
   "cell_type": "code",
   "execution_count": 11,
   "metadata": {},
   "outputs": [],
   "source": [
    "Y_campinas = df_campinas['rent_amount']\n",
    "X_campinas = df_campinas.drop('rent_amount',axis=1)"
   ]
  },
  {
   "cell_type": "code",
   "execution_count": 12,
   "metadata": {},
   "outputs": [],
   "source": [
    "model = sm.OLS(Y_campinas,add_constant(X_campinas))"
   ]
  },
  {
   "cell_type": "code",
   "execution_count": 13,
   "metadata": {},
   "outputs": [],
   "source": [
    "fitted_model = model.fit()"
   ]
  },
  {
   "cell_type": "code",
   "execution_count": 14,
   "metadata": {
    "scrolled": true
   },
   "outputs": [
    {
     "data": {
      "text/html": [
       "<table class=\"simpletable\">\n",
       "<caption>OLS Regression Results</caption>\n",
       "<tr>\n",
       "  <th>Dep. Variable:</th>       <td>rent_amount</td>   <th>  R-squared:         </th> <td>   0.655</td> \n",
       "</tr>\n",
       "<tr>\n",
       "  <th>Model:</th>                   <td>OLS</td>       <th>  Adj. R-squared:    </th> <td>   0.652</td> \n",
       "</tr>\n",
       "<tr>\n",
       "  <th>Method:</th>             <td>Least Squares</td>  <th>  F-statistic:       </th> <td>   228.7</td> \n",
       "</tr>\n",
       "<tr>\n",
       "  <th>Date:</th>             <td>Mon, 04 May 2020</td> <th>  Prob (F-statistic):</th> <td>3.66e-190</td>\n",
       "</tr>\n",
       "<tr>\n",
       "  <th>Time:</th>                 <td>15:21:11</td>     <th>  Log-Likelihood:    </th> <td> -7363.4</td> \n",
       "</tr>\n",
       "<tr>\n",
       "  <th>No. Observations:</th>      <td>   853</td>      <th>  AIC:               </th> <td>1.474e+04</td>\n",
       "</tr>\n",
       "<tr>\n",
       "  <th>Df Residuals:</th>          <td>   845</td>      <th>  BIC:               </th> <td>1.478e+04</td>\n",
       "</tr>\n",
       "<tr>\n",
       "  <th>Df Model:</th>              <td>     7</td>      <th>                     </th>     <td> </td>    \n",
       "</tr>\n",
       "<tr>\n",
       "  <th>Covariance Type:</th>      <td>nonrobust</td>    <th>                     </th>     <td> </td>    \n",
       "</tr>\n",
       "</table>\n",
       "<table class=\"simpletable\">\n",
       "<tr>\n",
       "         <td></td>           <th>coef</th>     <th>std err</th>      <th>t</th>      <th>P>|t|</th>  <th>[0.025</th>    <th>0.975]</th>  \n",
       "</tr>\n",
       "<tr>\n",
       "  <th>const</th>          <td>  219.7297</td> <td>  176.161</td> <td>    1.247</td> <td> 0.213</td> <td> -126.035</td> <td>  565.494</td>\n",
       "</tr>\n",
       "<tr>\n",
       "  <th>area</th>           <td>    0.1826</td> <td>    0.107</td> <td>    1.706</td> <td> 0.088</td> <td>   -0.028</td> <td>    0.393</td>\n",
       "</tr>\n",
       "<tr>\n",
       "  <th>rooms</th>          <td>  -12.7658</td> <td>   64.885</td> <td>   -0.197</td> <td> 0.844</td> <td> -140.121</td> <td>  114.590</td>\n",
       "</tr>\n",
       "<tr>\n",
       "  <th>bathroom</th>       <td> 1071.6043</td> <td>   55.382</td> <td>   19.349</td> <td> 0.000</td> <td>  962.901</td> <td> 1180.308</td>\n",
       "</tr>\n",
       "<tr>\n",
       "  <th>parking_spaces</th> <td>  366.5145</td> <td>   42.201</td> <td>    8.685</td> <td> 0.000</td> <td>  283.684</td> <td>  449.345</td>\n",
       "</tr>\n",
       "<tr>\n",
       "  <th>floor</th>          <td>    7.5384</td> <td>   10.183</td> <td>    0.740</td> <td> 0.459</td> <td>  -12.449</td> <td>   27.526</td>\n",
       "</tr>\n",
       "<tr>\n",
       "  <th>not acept</th>      <td>   50.9123</td> <td>  122.202</td> <td>    0.417</td> <td> 0.677</td> <td> -188.943</td> <td>  290.768</td>\n",
       "</tr>\n",
       "<tr>\n",
       "  <th>not furnished</th>  <td> -648.1944</td> <td>  141.181</td> <td>   -4.591</td> <td> 0.000</td> <td> -925.301</td> <td> -371.088</td>\n",
       "</tr>\n",
       "</table>\n",
       "<table class=\"simpletable\">\n",
       "<tr>\n",
       "  <th>Omnibus:</th>       <td>460.747</td> <th>  Durbin-Watson:     </th> <td>   1.982</td>\n",
       "</tr>\n",
       "<tr>\n",
       "  <th>Prob(Omnibus):</th> <td> 0.000</td>  <th>  Jarque-Bera (JB):  </th> <td>5901.578</td>\n",
       "</tr>\n",
       "<tr>\n",
       "  <th>Skew:</th>          <td> 2.162</td>  <th>  Prob(JB):          </th> <td>    0.00</td>\n",
       "</tr>\n",
       "<tr>\n",
       "  <th>Kurtosis:</th>      <td>15.139</td>  <th>  Cond. No.          </th> <td>2.11e+03</td>\n",
       "</tr>\n",
       "</table><br/><br/>Warnings:<br/>[1] Standard Errors assume that the covariance matrix of the errors is correctly specified.<br/>[2] The condition number is large, 2.11e+03. This might indicate that there are<br/>strong multicollinearity or other numerical problems."
      ],
      "text/plain": [
       "<class 'statsmodels.iolib.summary.Summary'>\n",
       "\"\"\"\n",
       "                            OLS Regression Results                            \n",
       "==============================================================================\n",
       "Dep. Variable:            rent_amount   R-squared:                       0.655\n",
       "Model:                            OLS   Adj. R-squared:                  0.652\n",
       "Method:                 Least Squares   F-statistic:                     228.7\n",
       "Date:                Mon, 04 May 2020   Prob (F-statistic):          3.66e-190\n",
       "Time:                        15:21:11   Log-Likelihood:                -7363.4\n",
       "No. Observations:                 853   AIC:                         1.474e+04\n",
       "Df Residuals:                     845   BIC:                         1.478e+04\n",
       "Df Model:                           7                                         \n",
       "Covariance Type:            nonrobust                                         \n",
       "==================================================================================\n",
       "                     coef    std err          t      P>|t|      [0.025      0.975]\n",
       "----------------------------------------------------------------------------------\n",
       "const            219.7297    176.161      1.247      0.213    -126.035     565.494\n",
       "area               0.1826      0.107      1.706      0.088      -0.028       0.393\n",
       "rooms            -12.7658     64.885     -0.197      0.844    -140.121     114.590\n",
       "bathroom        1071.6043     55.382     19.349      0.000     962.901    1180.308\n",
       "parking_spaces   366.5145     42.201      8.685      0.000     283.684     449.345\n",
       "floor              7.5384     10.183      0.740      0.459     -12.449      27.526\n",
       "not acept         50.9123    122.202      0.417      0.677    -188.943     290.768\n",
       "not furnished   -648.1944    141.181     -4.591      0.000    -925.301    -371.088\n",
       "==============================================================================\n",
       "Omnibus:                      460.747   Durbin-Watson:                   1.982\n",
       "Prob(Omnibus):                  0.000   Jarque-Bera (JB):             5901.578\n",
       "Skew:                           2.162   Prob(JB):                         0.00\n",
       "Kurtosis:                      15.139   Cond. No.                     2.11e+03\n",
       "==============================================================================\n",
       "\n",
       "Warnings:\n",
       "[1] Standard Errors assume that the covariance matrix of the errors is correctly specified.\n",
       "[2] The condition number is large, 2.11e+03. This might indicate that there are\n",
       "strong multicollinearity or other numerical problems.\n",
       "\"\"\""
      ]
     },
     "execution_count": 14,
     "metadata": {},
     "output_type": "execute_result"
    }
   ],
   "source": [
    "fitted_model.summary()"
   ]
  },
  {
   "cell_type": "code",
   "execution_count": 15,
   "metadata": {},
   "outputs": [
    {
     "data": {
      "text/plain": [
       "\"let's remove not accept columns\""
      ]
     },
     "execution_count": 15,
     "metadata": {},
     "output_type": "execute_result"
    }
   ],
   "source": [
    "\"let's remove not accept columns\""
   ]
  },
  {
   "cell_type": "code",
   "execution_count": 16,
   "metadata": {},
   "outputs": [],
   "source": [
    "def remove_col(col_name,data):\n",
    "    # drop the column\n",
    "    if col_name:\n",
    "        data=data.drop(col_name,axis=1)\n",
    "    # build the new model without this column\n",
    "    model = sm.OLS(Y_campinas,add_constant(data))\n",
    "    # fit it\n",
    "    model_fit = model.fit()\n",
    "    # display the model summary\n",
    "    display(model_fit.summary())\n",
    "    # return the X without the column\n",
    "    return data"
   ]
  },
  {
   "cell_type": "code",
   "execution_count": 17,
   "metadata": {},
   "outputs": [
    {
     "data": {
      "text/html": [
       "<table class=\"simpletable\">\n",
       "<caption>OLS Regression Results</caption>\n",
       "<tr>\n",
       "  <th>Dep. Variable:</th>       <td>rent_amount</td>   <th>  R-squared:         </th> <td>   0.654</td> \n",
       "</tr>\n",
       "<tr>\n",
       "  <th>Model:</th>                   <td>OLS</td>       <th>  Adj. R-squared:    </th> <td>   0.652</td> \n",
       "</tr>\n",
       "<tr>\n",
       "  <th>Method:</th>             <td>Least Squares</td>  <th>  F-statistic:       </th> <td>   267.1</td> \n",
       "</tr>\n",
       "<tr>\n",
       "  <th>Date:</th>             <td>Mon, 04 May 2020</td> <th>  Prob (F-statistic):</th> <td>2.34e-191</td>\n",
       "</tr>\n",
       "<tr>\n",
       "  <th>Time:</th>                 <td>15:21:18</td>     <th>  Log-Likelihood:    </th> <td> -7363.5</td> \n",
       "</tr>\n",
       "<tr>\n",
       "  <th>No. Observations:</th>      <td>   853</td>      <th>  AIC:               </th> <td>1.474e+04</td>\n",
       "</tr>\n",
       "<tr>\n",
       "  <th>Df Residuals:</th>          <td>   846</td>      <th>  BIC:               </th> <td>1.477e+04</td>\n",
       "</tr>\n",
       "<tr>\n",
       "  <th>Df Model:</th>              <td>     6</td>      <th>                     </th>     <td> </td>    \n",
       "</tr>\n",
       "<tr>\n",
       "  <th>Covariance Type:</th>      <td>nonrobust</td>    <th>                     </th>     <td> </td>    \n",
       "</tr>\n",
       "</table>\n",
       "<table class=\"simpletable\">\n",
       "<tr>\n",
       "         <td></td>           <th>coef</th>     <th>std err</th>      <th>t</th>      <th>P>|t|</th>  <th>[0.025</th>    <th>0.975]</th>  \n",
       "</tr>\n",
       "<tr>\n",
       "  <th>const</th>          <td>  239.6227</td> <td>  169.484</td> <td>    1.414</td> <td> 0.158</td> <td>  -93.035</td> <td>  572.281</td>\n",
       "</tr>\n",
       "<tr>\n",
       "  <th>area</th>           <td>    0.1818</td> <td>    0.107</td> <td>    1.699</td> <td> 0.090</td> <td>   -0.028</td> <td>    0.392</td>\n",
       "</tr>\n",
       "<tr>\n",
       "  <th>rooms</th>          <td>  -15.2962</td> <td>   64.569</td> <td>   -0.237</td> <td> 0.813</td> <td> -142.030</td> <td>  111.438</td>\n",
       "</tr>\n",
       "<tr>\n",
       "  <th>bathroom</th>       <td> 1072.7030</td> <td>   55.293</td> <td>   19.400</td> <td> 0.000</td> <td>  964.176</td> <td> 1181.230</td>\n",
       "</tr>\n",
       "<tr>\n",
       "  <th>parking_spaces</th> <td>  364.8977</td> <td>   42.001</td> <td>    8.688</td> <td> 0.000</td> <td>  282.458</td> <td>  447.337</td>\n",
       "</tr>\n",
       "<tr>\n",
       "  <th>floor</th>          <td>    7.5202</td> <td>   10.178</td> <td>    0.739</td> <td> 0.460</td> <td>  -12.457</td> <td>   27.498</td>\n",
       "</tr>\n",
       "<tr>\n",
       "  <th>not furnished</th>  <td> -652.5943</td> <td>  140.717</td> <td>   -4.638</td> <td> 0.000</td> <td> -928.789</td> <td> -376.399</td>\n",
       "</tr>\n",
       "</table>\n",
       "<table class=\"simpletable\">\n",
       "<tr>\n",
       "  <th>Omnibus:</th>       <td>463.376</td> <th>  Durbin-Watson:     </th> <td>   1.981</td>\n",
       "</tr>\n",
       "<tr>\n",
       "  <th>Prob(Omnibus):</th> <td> 0.000</td>  <th>  Jarque-Bera (JB):  </th> <td>6000.395</td>\n",
       "</tr>\n",
       "<tr>\n",
       "  <th>Skew:</th>          <td> 2.174</td>  <th>  Prob(JB):          </th> <td>    0.00</td>\n",
       "</tr>\n",
       "<tr>\n",
       "  <th>Kurtosis:</th>      <td>15.244</td>  <th>  Cond. No.          </th> <td>2.03e+03</td>\n",
       "</tr>\n",
       "</table><br/><br/>Warnings:<br/>[1] Standard Errors assume that the covariance matrix of the errors is correctly specified.<br/>[2] The condition number is large, 2.03e+03. This might indicate that there are<br/>strong multicollinearity or other numerical problems."
      ],
      "text/plain": [
       "<class 'statsmodels.iolib.summary.Summary'>\n",
       "\"\"\"\n",
       "                            OLS Regression Results                            \n",
       "==============================================================================\n",
       "Dep. Variable:            rent_amount   R-squared:                       0.654\n",
       "Model:                            OLS   Adj. R-squared:                  0.652\n",
       "Method:                 Least Squares   F-statistic:                     267.1\n",
       "Date:                Mon, 04 May 2020   Prob (F-statistic):          2.34e-191\n",
       "Time:                        15:21:18   Log-Likelihood:                -7363.5\n",
       "No. Observations:                 853   AIC:                         1.474e+04\n",
       "Df Residuals:                     846   BIC:                         1.477e+04\n",
       "Df Model:                           6                                         \n",
       "Covariance Type:            nonrobust                                         \n",
       "==================================================================================\n",
       "                     coef    std err          t      P>|t|      [0.025      0.975]\n",
       "----------------------------------------------------------------------------------\n",
       "const            239.6227    169.484      1.414      0.158     -93.035     572.281\n",
       "area               0.1818      0.107      1.699      0.090      -0.028       0.392\n",
       "rooms            -15.2962     64.569     -0.237      0.813    -142.030     111.438\n",
       "bathroom        1072.7030     55.293     19.400      0.000     964.176    1181.230\n",
       "parking_spaces   364.8977     42.001      8.688      0.000     282.458     447.337\n",
       "floor              7.5202     10.178      0.739      0.460     -12.457      27.498\n",
       "not furnished   -652.5943    140.717     -4.638      0.000    -928.789    -376.399\n",
       "==============================================================================\n",
       "Omnibus:                      463.376   Durbin-Watson:                   1.981\n",
       "Prob(Omnibus):                  0.000   Jarque-Bera (JB):             6000.395\n",
       "Skew:                           2.174   Prob(JB):                         0.00\n",
       "Kurtosis:                      15.244   Cond. No.                     2.03e+03\n",
       "==============================================================================\n",
       "\n",
       "Warnings:\n",
       "[1] Standard Errors assume that the covariance matrix of the errors is correctly specified.\n",
       "[2] The condition number is large, 2.03e+03. This might indicate that there are\n",
       "strong multicollinearity or other numerical problems.\n",
       "\"\"\""
      ]
     },
     "metadata": {},
     "output_type": "display_data"
    }
   ],
   "source": [
    "X_campinas = remove_col('not acept',X_campinas)"
   ]
  },
  {
   "cell_type": "code",
   "execution_count": 18,
   "metadata": {},
   "outputs": [
    {
     "data": {
      "text/html": [
       "<table class=\"simpletable\">\n",
       "<caption>OLS Regression Results</caption>\n",
       "<tr>\n",
       "  <th>Dep. Variable:</th>       <td>rent_amount</td>   <th>  R-squared:         </th> <td>   0.654</td> \n",
       "</tr>\n",
       "<tr>\n",
       "  <th>Model:</th>                   <td>OLS</td>       <th>  Adj. R-squared:    </th> <td>   0.652</td> \n",
       "</tr>\n",
       "<tr>\n",
       "  <th>Method:</th>             <td>Least Squares</td>  <th>  F-statistic:       </th> <td>   320.5</td> \n",
       "</tr>\n",
       "<tr>\n",
       "  <th>Date:</th>             <td>Mon, 04 May 2020</td> <th>  Prob (F-statistic):</th> <td>1.63e-192</td>\n",
       "</tr>\n",
       "<tr>\n",
       "  <th>Time:</th>                 <td>15:21:19</td>     <th>  Log-Likelihood:    </th> <td> -7363.7</td> \n",
       "</tr>\n",
       "<tr>\n",
       "  <th>No. Observations:</th>      <td>   853</td>      <th>  AIC:               </th> <td>1.474e+04</td>\n",
       "</tr>\n",
       "<tr>\n",
       "  <th>Df Residuals:</th>          <td>   847</td>      <th>  BIC:               </th> <td>1.477e+04</td>\n",
       "</tr>\n",
       "<tr>\n",
       "  <th>Df Model:</th>              <td>     5</td>      <th>                     </th>     <td> </td>    \n",
       "</tr>\n",
       "<tr>\n",
       "  <th>Covariance Type:</th>      <td>nonrobust</td>    <th>                     </th>     <td> </td>    \n",
       "</tr>\n",
       "</table>\n",
       "<table class=\"simpletable\">\n",
       "<tr>\n",
       "         <td></td>           <th>coef</th>     <th>std err</th>      <th>t</th>      <th>P>|t|</th>  <th>[0.025</th>    <th>0.975]</th>  \n",
       "</tr>\n",
       "<tr>\n",
       "  <th>const</th>          <td>  285.7898</td> <td>  157.503</td> <td>    1.815</td> <td> 0.070</td> <td>  -23.352</td> <td>  594.931</td>\n",
       "</tr>\n",
       "<tr>\n",
       "  <th>area</th>           <td>    0.1789</td> <td>    0.107</td> <td>    1.674</td> <td> 0.095</td> <td>   -0.031</td> <td>    0.389</td>\n",
       "</tr>\n",
       "<tr>\n",
       "  <th>rooms</th>          <td>  -19.5010</td> <td>   64.300</td> <td>   -0.303</td> <td> 0.762</td> <td> -145.708</td> <td>  106.706</td>\n",
       "</tr>\n",
       "<tr>\n",
       "  <th>bathroom</th>       <td> 1075.9318</td> <td>   55.105</td> <td>   19.525</td> <td> 0.000</td> <td>  967.774</td> <td> 1184.090</td>\n",
       "</tr>\n",
       "<tr>\n",
       "  <th>parking_spaces</th> <td>  361.6250</td> <td>   41.756</td> <td>    8.660</td> <td> 0.000</td> <td>  279.668</td> <td>  443.582</td>\n",
       "</tr>\n",
       "<tr>\n",
       "  <th>not furnished</th>  <td> -658.2412</td> <td>  140.471</td> <td>   -4.686</td> <td> 0.000</td> <td> -933.954</td> <td> -382.528</td>\n",
       "</tr>\n",
       "</table>\n",
       "<table class=\"simpletable\">\n",
       "<tr>\n",
       "  <th>Omnibus:</th>       <td>462.865</td> <th>  Durbin-Watson:     </th> <td>   1.983</td>\n",
       "</tr>\n",
       "<tr>\n",
       "  <th>Prob(Omnibus):</th> <td> 0.000</td>  <th>  Jarque-Bera (JB):  </th> <td>5979.538</td>\n",
       "</tr>\n",
       "<tr>\n",
       "  <th>Skew:</th>          <td> 2.172</td>  <th>  Prob(JB):          </th> <td>    0.00</td>\n",
       "</tr>\n",
       "<tr>\n",
       "  <th>Kurtosis:</th>      <td>15.222</td>  <th>  Cond. No.          </th> <td>1.96e+03</td>\n",
       "</tr>\n",
       "</table><br/><br/>Warnings:<br/>[1] Standard Errors assume that the covariance matrix of the errors is correctly specified.<br/>[2] The condition number is large, 1.96e+03. This might indicate that there are<br/>strong multicollinearity or other numerical problems."
      ],
      "text/plain": [
       "<class 'statsmodels.iolib.summary.Summary'>\n",
       "\"\"\"\n",
       "                            OLS Regression Results                            \n",
       "==============================================================================\n",
       "Dep. Variable:            rent_amount   R-squared:                       0.654\n",
       "Model:                            OLS   Adj. R-squared:                  0.652\n",
       "Method:                 Least Squares   F-statistic:                     320.5\n",
       "Date:                Mon, 04 May 2020   Prob (F-statistic):          1.63e-192\n",
       "Time:                        15:21:19   Log-Likelihood:                -7363.7\n",
       "No. Observations:                 853   AIC:                         1.474e+04\n",
       "Df Residuals:                     847   BIC:                         1.477e+04\n",
       "Df Model:                           5                                         \n",
       "Covariance Type:            nonrobust                                         \n",
       "==================================================================================\n",
       "                     coef    std err          t      P>|t|      [0.025      0.975]\n",
       "----------------------------------------------------------------------------------\n",
       "const            285.7898    157.503      1.815      0.070     -23.352     594.931\n",
       "area               0.1789      0.107      1.674      0.095      -0.031       0.389\n",
       "rooms            -19.5010     64.300     -0.303      0.762    -145.708     106.706\n",
       "bathroom        1075.9318     55.105     19.525      0.000     967.774    1184.090\n",
       "parking_spaces   361.6250     41.756      8.660      0.000     279.668     443.582\n",
       "not furnished   -658.2412    140.471     -4.686      0.000    -933.954    -382.528\n",
       "==============================================================================\n",
       "Omnibus:                      462.865   Durbin-Watson:                   1.983\n",
       "Prob(Omnibus):                  0.000   Jarque-Bera (JB):             5979.538\n",
       "Skew:                           2.172   Prob(JB):                         0.00\n",
       "Kurtosis:                      15.222   Cond. No.                     1.96e+03\n",
       "==============================================================================\n",
       "\n",
       "Warnings:\n",
       "[1] Standard Errors assume that the covariance matrix of the errors is correctly specified.\n",
       "[2] The condition number is large, 1.96e+03. This might indicate that there are\n",
       "strong multicollinearity or other numerical problems.\n",
       "\"\"\""
      ]
     },
     "metadata": {},
     "output_type": "display_data"
    }
   ],
   "source": [
    "X_campinas = remove_col('floor',X_campinas)"
   ]
  },
  {
   "cell_type": "code",
   "execution_count": 19,
   "metadata": {},
   "outputs": [
    {
     "data": {
      "text/html": [
       "<table class=\"simpletable\">\n",
       "<caption>OLS Regression Results</caption>\n",
       "<tr>\n",
       "  <th>Dep. Variable:</th>       <td>rent_amount</td>   <th>  R-squared:         </th> <td>   0.654</td> \n",
       "</tr>\n",
       "<tr>\n",
       "  <th>Model:</th>                   <td>OLS</td>       <th>  Adj. R-squared:    </th> <td>   0.653</td> \n",
       "</tr>\n",
       "<tr>\n",
       "  <th>Method:</th>             <td>Least Squares</td>  <th>  F-statistic:       </th> <td>   401.1</td> \n",
       "</tr>\n",
       "<tr>\n",
       "  <th>Date:</th>             <td>Mon, 04 May 2020</td> <th>  Prob (F-statistic):</th> <td>8.02e-194</td>\n",
       "</tr>\n",
       "<tr>\n",
       "  <th>Time:</th>                 <td>15:21:19</td>     <th>  Log-Likelihood:    </th> <td> -7363.8</td> \n",
       "</tr>\n",
       "<tr>\n",
       "  <th>No. Observations:</th>      <td>   853</td>      <th>  AIC:               </th> <td>1.474e+04</td>\n",
       "</tr>\n",
       "<tr>\n",
       "  <th>Df Residuals:</th>          <td>   848</td>      <th>  BIC:               </th> <td>1.476e+04</td>\n",
       "</tr>\n",
       "<tr>\n",
       "  <th>Df Model:</th>              <td>     4</td>      <th>                     </th>     <td> </td>    \n",
       "</tr>\n",
       "<tr>\n",
       "  <th>Covariance Type:</th>      <td>nonrobust</td>    <th>                     </th>     <td> </td>    \n",
       "</tr>\n",
       "</table>\n",
       "<table class=\"simpletable\">\n",
       "<tr>\n",
       "         <td></td>           <th>coef</th>     <th>std err</th>      <th>t</th>      <th>P>|t|</th>  <th>[0.025</th>    <th>0.975]</th>  \n",
       "</tr>\n",
       "<tr>\n",
       "  <th>const</th>          <td>  267.6799</td> <td>  145.666</td> <td>    1.838</td> <td> 0.066</td> <td>  -18.229</td> <td>  553.588</td>\n",
       "</tr>\n",
       "<tr>\n",
       "  <th>area</th>           <td>    0.1772</td> <td>    0.107</td> <td>    1.661</td> <td> 0.097</td> <td>   -0.032</td> <td>    0.387</td>\n",
       "</tr>\n",
       "<tr>\n",
       "  <th>bathroom</th>       <td> 1066.9957</td> <td>   46.541</td> <td>   22.926</td> <td> 0.000</td> <td>  975.647</td> <td> 1158.344</td>\n",
       "</tr>\n",
       "<tr>\n",
       "  <th>parking_spaces</th> <td>  358.8792</td> <td>   40.741</td> <td>    8.809</td> <td> 0.000</td> <td>  278.915</td> <td>  438.844</td>\n",
       "</tr>\n",
       "<tr>\n",
       "  <th>not furnished</th>  <td> -664.8855</td> <td>  138.678</td> <td>   -4.794</td> <td> 0.000</td> <td> -937.078</td> <td> -392.693</td>\n",
       "</tr>\n",
       "</table>\n",
       "<table class=\"simpletable\">\n",
       "<tr>\n",
       "  <th>Omnibus:</th>       <td>462.830</td> <th>  Durbin-Watson:     </th> <td>   1.984</td>\n",
       "</tr>\n",
       "<tr>\n",
       "  <th>Prob(Omnibus):</th> <td> 0.000</td>  <th>  Jarque-Bera (JB):  </th> <td>5950.787</td>\n",
       "</tr>\n",
       "<tr>\n",
       "  <th>Skew:</th>          <td> 2.173</td>  <th>  Prob(JB):          </th> <td>    0.00</td>\n",
       "</tr>\n",
       "<tr>\n",
       "  <th>Kurtosis:</th>      <td>15.188</td>  <th>  Cond. No.          </th> <td>1.93e+03</td>\n",
       "</tr>\n",
       "</table><br/><br/>Warnings:<br/>[1] Standard Errors assume that the covariance matrix of the errors is correctly specified.<br/>[2] The condition number is large, 1.93e+03. This might indicate that there are<br/>strong multicollinearity or other numerical problems."
      ],
      "text/plain": [
       "<class 'statsmodels.iolib.summary.Summary'>\n",
       "\"\"\"\n",
       "                            OLS Regression Results                            \n",
       "==============================================================================\n",
       "Dep. Variable:            rent_amount   R-squared:                       0.654\n",
       "Model:                            OLS   Adj. R-squared:                  0.653\n",
       "Method:                 Least Squares   F-statistic:                     401.1\n",
       "Date:                Mon, 04 May 2020   Prob (F-statistic):          8.02e-194\n",
       "Time:                        15:21:19   Log-Likelihood:                -7363.8\n",
       "No. Observations:                 853   AIC:                         1.474e+04\n",
       "Df Residuals:                     848   BIC:                         1.476e+04\n",
       "Df Model:                           4                                         \n",
       "Covariance Type:            nonrobust                                         \n",
       "==================================================================================\n",
       "                     coef    std err          t      P>|t|      [0.025      0.975]\n",
       "----------------------------------------------------------------------------------\n",
       "const            267.6799    145.666      1.838      0.066     -18.229     553.588\n",
       "area               0.1772      0.107      1.661      0.097      -0.032       0.387\n",
       "bathroom        1066.9957     46.541     22.926      0.000     975.647    1158.344\n",
       "parking_spaces   358.8792     40.741      8.809      0.000     278.915     438.844\n",
       "not furnished   -664.8855    138.678     -4.794      0.000    -937.078    -392.693\n",
       "==============================================================================\n",
       "Omnibus:                      462.830   Durbin-Watson:                   1.984\n",
       "Prob(Omnibus):                  0.000   Jarque-Bera (JB):             5950.787\n",
       "Skew:                           2.173   Prob(JB):                         0.00\n",
       "Kurtosis:                      15.188   Cond. No.                     1.93e+03\n",
       "==============================================================================\n",
       "\n",
       "Warnings:\n",
       "[1] Standard Errors assume that the covariance matrix of the errors is correctly specified.\n",
       "[2] The condition number is large, 1.93e+03. This might indicate that there are\n",
       "strong multicollinearity or other numerical problems.\n",
       "\"\"\""
      ]
     },
     "metadata": {},
     "output_type": "display_data"
    }
   ],
   "source": [
    "X_campinas = remove_col('rooms',X_campinas)"
   ]
  },
  {
   "cell_type": "code",
   "execution_count": 20,
   "metadata": {},
   "outputs": [
    {
     "data": {
      "text/html": [
       "<table class=\"simpletable\">\n",
       "<caption>OLS Regression Results</caption>\n",
       "<tr>\n",
       "  <th>Dep. Variable:</th>       <td>rent_amount</td>   <th>  R-squared:         </th> <td>   0.653</td> \n",
       "</tr>\n",
       "<tr>\n",
       "  <th>Model:</th>                   <td>OLS</td>       <th>  Adj. R-squared:    </th> <td>   0.652</td> \n",
       "</tr>\n",
       "<tr>\n",
       "  <th>Method:</th>             <td>Least Squares</td>  <th>  F-statistic:       </th> <td>   532.7</td> \n",
       "</tr>\n",
       "<tr>\n",
       "  <th>Date:</th>             <td>Mon, 04 May 2020</td> <th>  Prob (F-statistic):</th> <td>1.27e-194</td>\n",
       "</tr>\n",
       "<tr>\n",
       "  <th>Time:</th>                 <td>15:21:20</td>     <th>  Log-Likelihood:    </th> <td> -7365.2</td> \n",
       "</tr>\n",
       "<tr>\n",
       "  <th>No. Observations:</th>      <td>   853</td>      <th>  AIC:               </th> <td>1.474e+04</td>\n",
       "</tr>\n",
       "<tr>\n",
       "  <th>Df Residuals:</th>          <td>   849</td>      <th>  BIC:               </th> <td>1.476e+04</td>\n",
       "</tr>\n",
       "<tr>\n",
       "  <th>Df Model:</th>              <td>     3</td>      <th>                     </th>     <td> </td>    \n",
       "</tr>\n",
       "<tr>\n",
       "  <th>Covariance Type:</th>      <td>nonrobust</td>    <th>                     </th>     <td> </td>    \n",
       "</tr>\n",
       "</table>\n",
       "<table class=\"simpletable\">\n",
       "<tr>\n",
       "         <td></td>           <th>coef</th>     <th>std err</th>      <th>t</th>      <th>P>|t|</th>  <th>[0.025</th>    <th>0.975]</th>  \n",
       "</tr>\n",
       "<tr>\n",
       "  <th>const</th>          <td>  260.8221</td> <td>  145.758</td> <td>    1.789</td> <td> 0.074</td> <td>  -25.267</td> <td>  546.911</td>\n",
       "</tr>\n",
       "<tr>\n",
       "  <th>bathroom</th>       <td> 1079.5370</td> <td>   45.972</td> <td>   23.483</td> <td> 0.000</td> <td>  989.306</td> <td> 1169.768</td>\n",
       "</tr>\n",
       "<tr>\n",
       "  <th>parking_spaces</th> <td>  359.6381</td> <td>   40.780</td> <td>    8.819</td> <td> 0.000</td> <td>  279.596</td> <td>  439.680</td>\n",
       "</tr>\n",
       "<tr>\n",
       "  <th>not furnished</th>  <td> -658.6066</td> <td>  138.770</td> <td>   -4.746</td> <td> 0.000</td> <td> -930.979</td> <td> -386.234</td>\n",
       "</tr>\n",
       "</table>\n",
       "<table class=\"simpletable\">\n",
       "<tr>\n",
       "  <th>Omnibus:</th>       <td>464.341</td> <th>  Durbin-Watson:     </th> <td>   1.972</td>\n",
       "</tr>\n",
       "<tr>\n",
       "  <th>Prob(Omnibus):</th> <td> 0.000</td>  <th>  Jarque-Bera (JB):  </th> <td>5987.962</td>\n",
       "</tr>\n",
       "<tr>\n",
       "  <th>Skew:</th>          <td> 2.182</td>  <th>  Prob(JB):          </th> <td>    0.00</td>\n",
       "</tr>\n",
       "<tr>\n",
       "  <th>Kurtosis:</th>      <td>15.224</td>  <th>  Cond. No.          </th> <td>    13.6</td>\n",
       "</tr>\n",
       "</table><br/><br/>Warnings:<br/>[1] Standard Errors assume that the covariance matrix of the errors is correctly specified."
      ],
      "text/plain": [
       "<class 'statsmodels.iolib.summary.Summary'>\n",
       "\"\"\"\n",
       "                            OLS Regression Results                            \n",
       "==============================================================================\n",
       "Dep. Variable:            rent_amount   R-squared:                       0.653\n",
       "Model:                            OLS   Adj. R-squared:                  0.652\n",
       "Method:                 Least Squares   F-statistic:                     532.7\n",
       "Date:                Mon, 04 May 2020   Prob (F-statistic):          1.27e-194\n",
       "Time:                        15:21:20   Log-Likelihood:                -7365.2\n",
       "No. Observations:                 853   AIC:                         1.474e+04\n",
       "Df Residuals:                     849   BIC:                         1.476e+04\n",
       "Df Model:                           3                                         \n",
       "Covariance Type:            nonrobust                                         \n",
       "==================================================================================\n",
       "                     coef    std err          t      P>|t|      [0.025      0.975]\n",
       "----------------------------------------------------------------------------------\n",
       "const            260.8221    145.758      1.789      0.074     -25.267     546.911\n",
       "bathroom        1079.5370     45.972     23.483      0.000     989.306    1169.768\n",
       "parking_spaces   359.6381     40.780      8.819      0.000     279.596     439.680\n",
       "not furnished   -658.6066    138.770     -4.746      0.000    -930.979    -386.234\n",
       "==============================================================================\n",
       "Omnibus:                      464.341   Durbin-Watson:                   1.972\n",
       "Prob(Omnibus):                  0.000   Jarque-Bera (JB):             5987.962\n",
       "Skew:                           2.182   Prob(JB):                         0.00\n",
       "Kurtosis:                      15.224   Cond. No.                         13.6\n",
       "==============================================================================\n",
       "\n",
       "Warnings:\n",
       "[1] Standard Errors assume that the covariance matrix of the errors is correctly specified.\n",
       "\"\"\""
      ]
     },
     "metadata": {},
     "output_type": "display_data"
    }
   ],
   "source": [
    "X_campinas = remove_col('area',X_campinas)"
   ]
  },
  {
   "cell_type": "markdown",
   "metadata": {},
   "source": [
    "# Checking assumptions"
   ]
  },
  {
   "cell_type": "markdown",
   "metadata": {},
   "source": [
    "## Multicolinearity"
   ]
  },
  {
   "cell_type": "markdown",
   "metadata": {},
   "source": [
    "Let's check if the X are dependant"
   ]
  },
  {
   "cell_type": "code",
   "execution_count": 21,
   "metadata": {},
   "outputs": [
    {
     "data": {
      "image/png": "[encoded data removed]",
      "text/plain": [
       "<Figure size 720x576 with 2 Axes>"
      ]
     },
     "metadata": {
      "needs_background": "light"
     },
     "output_type": "display_data"
    }
   ],
   "source": [
    "plt.figure(figsize = (10,8))\n",
    "sns.heatmap(X_campinas.corr())\n",
    "plt.title('Correlation of Variables')\n",
    "plt.show()"
   ]
  },
  {
   "cell_type": "markdown",
   "metadata": {},
   "source": [
    "Apparently, there is not correlation between X, but we will dive deeper into this check by calculating the VIF"
   ]
  },
  {
   "cell_type": "code",
   "execution_count": 22,
   "metadata": {},
   "outputs": [],
   "source": [
    "from statsmodels.stats.outliers_influence import variance_inflation_factor as VIF"
   ]
  },
  {
   "cell_type": "code",
   "execution_count": 23,
   "metadata": {},
   "outputs": [],
   "source": [
    "X1 = add_constant(X_campinas)"
   ]
  },
  {
   "cell_type": "code",
   "execution_count": 24,
   "metadata": {},
   "outputs": [
    {
     "data": {
      "text/plain": [
       "[4.886524825780118, 3.6030001044866493, 2.4707684053887498]"
      ]
     },
     "execution_count": 24,
     "metadata": {},
     "output_type": "execute_result"
    }
   ],
   "source": [
    "[VIF(X_campinas.values,i) for i in range(X_campinas.shape[1])]"
   ]
  },
  {
   "cell_type": "markdown",
   "metadata": {},
   "source": [
    "All VIF are less than 10 so no correlation between X, so multicoliearity satisifed"
   ]
  },
  {
   "cell_type": "markdown",
   "metadata": {},
   "source": [
    "## Autocorrelation"
   ]
  },
  {
   "cell_type": "markdown",
   "metadata": {},
   "source": [
    "Durbin Watson test"
   ]
  },
  {
   "cell_type": "code",
   "execution_count": 25,
   "metadata": {},
   "outputs": [],
   "source": [
    "fitted_model = sm.OLS(Y_campinas,add_constant(X_campinas)).fit()"
   ]
  },
  {
   "cell_type": "code",
   "execution_count": 26,
   "metadata": {},
   "outputs": [],
   "source": [
    "resid = fitted_model.resid"
   ]
  },
  {
   "cell_type": "code",
   "execution_count": 27,
   "metadata": {},
   "outputs": [
    {
     "data": {
      "text/plain": [
       "1.9719324833851049"
      ]
     },
     "execution_count": 27,
     "metadata": {},
     "output_type": "execute_result"
    }
   ],
   "source": [
    "durbin_watson(resid)"
   ]
  },
  {
   "cell_type": "markdown",
   "metadata": {},
   "source": [
    "Value is between 1.5 and 2.5 so there is no autocorrelation, so assumption satisfied"
   ]
  },
  {
   "cell_type": "markdown",
   "metadata": {},
   "source": [
    "## Linearity"
   ]
  },
  {
   "cell_type": "code",
   "execution_count": 28,
   "metadata": {},
   "outputs": [],
   "source": [
    "model=sm.OLS(Y_campinas,add_constant(X_campinas))\n",
    "model_fit = model.fit()"
   ]
  },
  {
   "cell_type": "code",
   "execution_count": 66,
   "metadata": {},
   "outputs": [
    {
     "data": {
      "text/plain": [
       "Text(0.5, 1.0, 'Predicted rent price VS current price')"
      ]
     },
     "execution_count": 66,
     "metadata": {},
     "output_type": "execute_result"
    },
    {
     "data": {
      "image/png": "[encoded data removed]",
      "text/plain": [
       "<Figure size 432x288 with 1 Axes>"
      ]
     },
     "metadata": {
      "needs_background": "light"
     },
     "output_type": "display_data"
    }
   ],
   "source": [
    "Y_campinas_predict = model_fit.predict(add_constant(X_campinas))\n",
    "sns.regplot(np.log(Y_campinas),np.log(Y_campinas_predict))\n",
    "ax = plt.gca()\n",
    "ax.set_title(\"Predicted rent price VS current price\")"
   ]
  },
  {
   "cell_type": "markdown",
   "metadata": {},
   "source": [
    "Basically, let's check the linearity between X by plot."
   ]
  },
  {
   "cell_type": "code",
   "execution_count": 30,
   "metadata": {},
   "outputs": [
    {
     "data": {
      "text/plain": [
       "Index(['bathroom', 'parking_spaces'], dtype='object')"
      ]
     },
     "execution_count": 30,
     "metadata": {},
     "output_type": "execute_result"
    }
   ],
   "source": [
    "X_campinas.nunique()[X_campinas.nunique()>2].index"
   ]
  },
  {
   "cell_type": "code",
   "execution_count": 31,
   "metadata": {},
   "outputs": [
    {
     "data": {
      "image/png": "[encoded data removed]",
      "text/plain": [
       "<Figure size 720x576 with 4 Axes>"
      ]
     },
     "metadata": {
      "needs_background": "light"
     },
     "output_type": "display_data"
    }
   ],
   "source": [
    "_,axes=plt.subplots(2,2,figsize=(10,8))\n",
    "for idx,col in enumerate(X_campinas.nunique()[X_campinas.nunique()>2].index):\n",
    "    sns.scatterplot(x=X_campinas[col].values,y=Y_campinas.values.ravel(), ax=axes[idx//2, idx%2])"
   ]
  },
  {
   "cell_type": "code",
   "execution_count": 32,
   "metadata": {},
   "outputs": [],
   "source": [
    "dummies=X_campinas.nunique()[X_campinas.nunique()==2].index"
   ]
  },
  {
   "cell_type": "code",
   "execution_count": 33,
   "metadata": {},
   "outputs": [
    {
     "data": {
      "text/plain": [
       "0"
      ]
     },
     "execution_count": 33,
     "metadata": {},
     "output_type": "execute_result"
    }
   ],
   "source": [
    "X_campinas[dummies].sum(axis=1).min()"
   ]
  },
  {
   "cell_type": "markdown",
   "metadata": {},
   "source": [
    "## Homoscedasticity"
   ]
  },
  {
   "cell_type": "markdown",
   "metadata": {},
   "source": [
    "Residuals should have relative constant variance"
   ]
  },
  {
   "cell_type": "code",
   "execution_count": 34,
   "metadata": {},
   "outputs": [
    {
     "data": {
      "image/png": "[encoded data removed]",
      "text/plain": [
       "<Figure size 864x432 with 1 Axes>"
      ]
     },
     "metadata": {
      "needs_background": "light"
     },
     "output_type": "display_data"
    }
   ],
   "source": [
    "from numpy import repeat\n",
    "plt.subplots(figsize=(12, 6))\n",
    "ax = plt.subplot(111) \n",
    "plt.scatter(x=range(X_campinas.shape[0]), y=resid, alpha=0.5)\n",
    "plt.plot(repeat(0, X_campinas.shape[0]), color='darkorange', linestyle='--')\n",
    "plt.title('Residuals')\n",
    "plt.show()"
   ]
  },
  {
   "cell_type": "markdown",
   "metadata": {},
   "source": [
    "According this graph we can conclude, that residuals are almost stable, unliss some spines coming from outliers.\n"
   ]
  },
  {
   "cell_type": "code",
   "execution_count": 35,
   "metadata": {},
   "outputs": [],
   "source": [
    "from statsmodels.stats.diagnostic import het_breuschpagan"
   ]
  },
  {
   "cell_type": "code",
   "execution_count": 36,
   "metadata": {
    "scrolled": true
   },
   "outputs": [
    {
     "data": {
      "text/plain": [
       "{'Lagrange Multiplier': 147.6428440973137,\n",
       " 'pvalue for LM': 8.704899431076121e-33,\n",
       " 'F stats': 59.306322776821546,\n",
       " 'pvalue for Fstats': 8.111451034278407e-35}"
      ]
     },
     "execution_count": 36,
     "metadata": {},
     "output_type": "execute_result"
    }
   ],
   "source": [
    "lnames=['Lagrange Multiplier', 'pvalue for LM','F stats','pvalue for Fstats']\n",
    "{lnames[idx]:het_breuschpagan(resid,X_campinas[:])[idx] for idx in range(4)}"
   ]
  },
  {
   "cell_type": "markdown",
   "metadata": {},
   "source": [
    "Both values of p_values are 0, so we reject Null Hypothesis and concluse that assumption is violated."
   ]
  },
  {
   "cell_type": "markdown",
   "metadata": {},
   "source": [
    "## Exogeneity of residuals"
   ]
  },
  {
   "cell_type": "code",
   "execution_count": 37,
   "metadata": {},
   "outputs": [
    {
     "data": {
      "text/plain": [
       "Text(0.5, 1.0, 'Distribution of residuals')"
      ]
     },
     "execution_count": 37,
     "metadata": {},
     "output_type": "execute_result"
    },
    {
     "data": {
      "image/png": "[encoded data removed]",
      "text/plain": [
       "<Figure size 432x288 with 1 Axes>"
      ]
     },
     "metadata": {
      "needs_background": "light"
     },
     "output_type": "display_data"
    }
   ],
   "source": [
    "\n",
    "# plt.figure(figsize=(10,5))\n",
    "# resid.plot.hist(bins=100)\n",
    "# plt.title('distribution of residuals')\n",
    "sns.distplot(resid)\n",
    "ax = plt.gca()\n",
    "ax.set_title(\"Distribution of residuals\")"
   ]
  },
  {
   "cell_type": "code",
   "execution_count": 38,
   "metadata": {},
   "outputs": [
    {
     "data": {
      "text/plain": [
       "0.0"
      ]
     },
     "execution_count": 38,
     "metadata": {},
     "output_type": "execute_result"
    }
   ],
   "source": [
    "from statsmodels.stats.diagnostic import normal_ad\n",
    "# Anderson-Darling test\n",
    "p_value = normal_ad(resid)[1]\n",
    "p_value"
   ]
  },
  {
   "cell_type": "code",
   "execution_count": 39,
   "metadata": {},
   "outputs": [
    {
     "data": {
      "text/plain": [
       "4.119625577240292e-254"
      ]
     },
     "execution_count": 39,
     "metadata": {},
     "output_type": "execute_result"
    }
   ],
   "source": [
    "from scipy.stats import kstest\n",
    "kstest(resid, 'norm')\n",
    "p_value = kstest(resid, 'norm')[1]\n",
    "p_value"
   ]
  },
  {
   "cell_type": "markdown",
   "metadata": {},
   "source": [
    "p_value equal to zero so the residuals are not normally distributed. So the assumtion exogenity is not satisfied. "
   ]
  },
  {
   "cell_type": "markdown",
   "metadata": {},
   "source": [
    "### Resultat:\n",
    "- Assumption Multicoliearity is satisifed\n",
    "- Assumption Autocorrelation is satisfied\n",
    "- Assumption linearity is satisfied\n",
    "- Assumption Homoscedasticity is violated\n",
    "- Assumption Exogeneity is violated"
   ]
  },
  {
   "cell_type": "markdown",
   "metadata": {},
   "source": [
    "# Model Rent House in Campinas without outliers"
   ]
  },
  {
   "cell_type": "code",
   "execution_count": 40,
   "metadata": {},
   "outputs": [
    {
     "data": {
      "text/html": [
       "<div>\n",
       "<style scoped>\n",
       "    .dataframe tbody tr th:only-of-type {\n",
       "        vertical-align: middle;\n",
       "    }\n",
       "\n",
       "    .dataframe tbody tr th {\n",
       "        vertical-align: top;\n",
       "    }\n",
       "\n",
       "    .dataframe thead th {\n",
       "        text-align: right;\n",
       "    }\n",
       "</style>\n",
       "<table border=\"1\" class=\"dataframe\">\n",
       "  <thead>\n",
       "    <tr style=\"text-align: right;\">\n",
       "      <th></th>\n",
       "      <th>area</th>\n",
       "      <th>rooms</th>\n",
       "      <th>bathroom</th>\n",
       "      <th>parking_spaces</th>\n",
       "      <th>floor</th>\n",
       "      <th>rent_amount</th>\n",
       "      <th>not acept</th>\n",
       "      <th>not furnished</th>\n",
       "    </tr>\n",
       "  </thead>\n",
       "  <tbody>\n",
       "    <tr>\n",
       "      <th>11</th>\n",
       "      <td>46</td>\n",
       "      <td>1</td>\n",
       "      <td>1</td>\n",
       "      <td>1</td>\n",
       "      <td>10</td>\n",
       "      <td>580</td>\n",
       "      <td>0</td>\n",
       "      <td>1</td>\n",
       "    </tr>\n",
       "    <tr>\n",
       "      <th>15</th>\n",
       "      <td>330</td>\n",
       "      <td>4</td>\n",
       "      <td>6</td>\n",
       "      <td>6</td>\n",
       "      <td>0</td>\n",
       "      <td>8000</td>\n",
       "      <td>0</td>\n",
       "      <td>0</td>\n",
       "    </tr>\n",
       "    <tr>\n",
       "      <th>28</th>\n",
       "      <td>208</td>\n",
       "      <td>3</td>\n",
       "      <td>2</td>\n",
       "      <td>4</td>\n",
       "      <td>0</td>\n",
       "      <td>3180</td>\n",
       "      <td>0</td>\n",
       "      <td>1</td>\n",
       "    </tr>\n",
       "    <tr>\n",
       "      <th>48</th>\n",
       "      <td>250</td>\n",
       "      <td>3</td>\n",
       "      <td>3</td>\n",
       "      <td>2</td>\n",
       "      <td>1</td>\n",
       "      <td>1700</td>\n",
       "      <td>0</td>\n",
       "      <td>1</td>\n",
       "    </tr>\n",
       "    <tr>\n",
       "      <th>49</th>\n",
       "      <td>48</td>\n",
       "      <td>1</td>\n",
       "      <td>1</td>\n",
       "      <td>1</td>\n",
       "      <td>2</td>\n",
       "      <td>1600</td>\n",
       "      <td>0</td>\n",
       "      <td>0</td>\n",
       "    </tr>\n",
       "    <tr>\n",
       "      <th>...</th>\n",
       "      <td>...</td>\n",
       "      <td>...</td>\n",
       "      <td>...</td>\n",
       "      <td>...</td>\n",
       "      <td>...</td>\n",
       "      <td>...</td>\n",
       "      <td>...</td>\n",
       "      <td>...</td>\n",
       "    </tr>\n",
       "    <tr>\n",
       "      <th>10625</th>\n",
       "      <td>92</td>\n",
       "      <td>3</td>\n",
       "      <td>3</td>\n",
       "      <td>2</td>\n",
       "      <td>11</td>\n",
       "      <td>1700</td>\n",
       "      <td>0</td>\n",
       "      <td>1</td>\n",
       "    </tr>\n",
       "    <tr>\n",
       "      <th>10629</th>\n",
       "      <td>83</td>\n",
       "      <td>2</td>\n",
       "      <td>2</td>\n",
       "      <td>2</td>\n",
       "      <td>1</td>\n",
       "      <td>3700</td>\n",
       "      <td>0</td>\n",
       "      <td>0</td>\n",
       "    </tr>\n",
       "    <tr>\n",
       "      <th>10656</th>\n",
       "      <td>140</td>\n",
       "      <td>1</td>\n",
       "      <td>2</td>\n",
       "      <td>2</td>\n",
       "      <td>15</td>\n",
       "      <td>5200</td>\n",
       "      <td>0</td>\n",
       "      <td>1</td>\n",
       "    </tr>\n",
       "    <tr>\n",
       "      <th>10659</th>\n",
       "      <td>150</td>\n",
       "      <td>3</td>\n",
       "      <td>2</td>\n",
       "      <td>4</td>\n",
       "      <td>0</td>\n",
       "      <td>3500</td>\n",
       "      <td>0</td>\n",
       "      <td>0</td>\n",
       "    </tr>\n",
       "    <tr>\n",
       "      <th>10661</th>\n",
       "      <td>250</td>\n",
       "      <td>1</td>\n",
       "      <td>2</td>\n",
       "      <td>2</td>\n",
       "      <td>0</td>\n",
       "      <td>2200</td>\n",
       "      <td>0</td>\n",
       "      <td>1</td>\n",
       "    </tr>\n",
       "  </tbody>\n",
       "</table>\n",
       "<p>853 rows × 8 columns</p>\n",
       "</div>"
      ],
      "text/plain": [
       "       area  rooms  bathroom  parking_spaces  floor  rent_amount  not acept  \\\n",
       "11       46      1         1               1     10          580          0   \n",
       "15      330      4         6               6      0         8000          0   \n",
       "28      208      3         2               4      0         3180          0   \n",
       "48      250      3         3               2      1         1700          0   \n",
       "49       48      1         1               1      2         1600          0   \n",
       "...     ...    ...       ...             ...    ...          ...        ...   \n",
       "10625    92      3         3               2     11         1700          0   \n",
       "10629    83      2         2               2      1         3700          0   \n",
       "10656   140      1         2               2     15         5200          0   \n",
       "10659   150      3         2               4      0         3500          0   \n",
       "10661   250      1         2               2      0         2200          0   \n",
       "\n",
       "       not furnished  \n",
       "11                 1  \n",
       "15                 0  \n",
       "28                 1  \n",
       "48                 1  \n",
       "49                 0  \n",
       "...              ...  \n",
       "10625              1  \n",
       "10629              0  \n",
       "10656              1  \n",
       "10659              0  \n",
       "10661              1  \n",
       "\n",
       "[853 rows x 8 columns]"
      ]
     },
     "execution_count": 40,
     "metadata": {},
     "output_type": "execute_result"
    }
   ],
   "source": [
    "df_campinas"
   ]
  },
  {
   "cell_type": "code",
   "execution_count": 63,
   "metadata": {},
   "outputs": [
    {
     "data": {
      "text/plain": [
       "<matplotlib.axes._subplots.AxesSubplot at 0x24a135d1208>"
      ]
     },
     "execution_count": 63,
     "metadata": {},
     "output_type": "execute_result"
    },
    {
     "data": {
      "image/png": "[encoded data removed]",
      "text/plain": [
       "<Figure size 432x288 with 1 Axes>"
      ]
     },
     "metadata": {
      "needs_background": "light"
     },
     "output_type": "display_data"
    }
   ],
   "source": [
    "df_campinas.boxplot(column='rent_amount')"
   ]
  },
  {
   "cell_type": "code",
   "execution_count": 42,
   "metadata": {},
   "outputs": [],
   "source": [
    "Q1 = Y_campinas.quantile(0.25)\n",
    "Q3 = Y_campinas.quantile(0.75)\n",
    "IQR = Q3 - Q1"
   ]
  },
  {
   "cell_type": "code",
   "execution_count": 43,
   "metadata": {},
   "outputs": [
    {
     "name": "stdout",
     "output_type": "stream",
     "text": [
      "lower :  -1880.0\n",
      "upper :  5680.0\n"
     ]
    }
   ],
   "source": [
    "lower = Q1 - IQR*1.6\n",
    "upper = Q3 + IQR*1.6\n",
    "print('lower : ',lower)\n",
    "print('upper : ',upper)"
   ]
  },
  {
   "cell_type": "code",
   "execution_count": 44,
   "metadata": {},
   "outputs": [
    {
     "data": {
      "text/plain": [
       "71"
      ]
     },
     "execution_count": 44,
     "metadata": {},
     "output_type": "execute_result"
    }
   ],
   "source": [
    "index_outliers = Y_campinas[(Y_campinas>upper)|(Y_campinas<lower)].index\n",
    "len(index_outliers)"
   ]
  },
  {
   "cell_type": "code",
   "execution_count": 45,
   "metadata": {},
   "outputs": [
    {
     "data": {
      "text/plain": [
       "(853, 8)"
      ]
     },
     "execution_count": 45,
     "metadata": {},
     "output_type": "execute_result"
    }
   ],
   "source": [
    "df_campinas.shape"
   ]
  },
  {
   "cell_type": "code",
   "execution_count": 46,
   "metadata": {},
   "outputs": [
    {
     "data": {
      "text/plain": [
       "(782, 8)"
      ]
     },
     "execution_count": 46,
     "metadata": {},
     "output_type": "execute_result"
    }
   ],
   "source": [
    "df2 = df_campinas.drop(index=index_outliers,axis=1)\n",
    "df2.shape"
   ]
  },
  {
   "cell_type": "code",
   "execution_count": 47,
   "metadata": {},
   "outputs": [],
   "source": [
    "#df2 = df_campinas.loc[index_outliers,:]"
   ]
  },
  {
   "cell_type": "code",
   "execution_count": 48,
   "metadata": {},
   "outputs": [
    {
     "data": {
      "text/plain": [
       "11        580\n",
       "28       3180\n",
       "48       1700\n",
       "49       1600\n",
       "57       5500\n",
       "         ... \n",
       "10625    1700\n",
       "10629    3700\n",
       "10656    5200\n",
       "10659    3500\n",
       "10661    2200\n",
       "Name: rent_amount, Length: 782, dtype: int64"
      ]
     },
     "execution_count": 48,
     "metadata": {},
     "output_type": "execute_result"
    }
   ],
   "source": [
    "Y2_campinas = df2.rent_amount\n",
    "Y2_campinas"
   ]
  },
  {
   "cell_type": "code",
   "execution_count": 49,
   "metadata": {},
   "outputs": [],
   "source": [
    "X2_campinas = df2.drop('rent_amount',axis=1)"
   ]
  },
  {
   "cell_type": "code",
   "execution_count": 50,
   "metadata": {},
   "outputs": [
    {
     "data": {
      "text/html": [
       "<table class=\"simpletable\">\n",
       "<caption>OLS Regression Results</caption>\n",
       "<tr>\n",
       "  <th>Dep. Variable:</th>       <td>rent_amount</td>   <th>  R-squared:         </th> <td>   0.634</td> \n",
       "</tr>\n",
       "<tr>\n",
       "  <th>Model:</th>                   <td>OLS</td>       <th>  Adj. R-squared:    </th> <td>   0.630</td> \n",
       "</tr>\n",
       "<tr>\n",
       "  <th>Method:</th>             <td>Least Squares</td>  <th>  F-statistic:       </th> <td>   191.2</td> \n",
       "</tr>\n",
       "<tr>\n",
       "  <th>Date:</th>             <td>Mon, 04 May 2020</td> <th>  Prob (F-statistic):</th> <td>5.16e-164</td>\n",
       "</tr>\n",
       "<tr>\n",
       "  <th>Time:</th>                 <td>15:21:31</td>     <th>  Log-Likelihood:    </th> <td> -6230.0</td> \n",
       "</tr>\n",
       "<tr>\n",
       "  <th>No. Observations:</th>      <td>   782</td>      <th>  AIC:               </th> <td>1.248e+04</td>\n",
       "</tr>\n",
       "<tr>\n",
       "  <th>Df Residuals:</th>          <td>   774</td>      <th>  BIC:               </th> <td>1.251e+04</td>\n",
       "</tr>\n",
       "<tr>\n",
       "  <th>Df Model:</th>              <td>     7</td>      <th>                     </th>     <td> </td>    \n",
       "</tr>\n",
       "<tr>\n",
       "  <th>Covariance Type:</th>      <td>nonrobust</td>    <th>                     </th>     <td> </td>    \n",
       "</tr>\n",
       "</table>\n",
       "<table class=\"simpletable\">\n",
       "<tr>\n",
       "         <td></td>           <th>coef</th>     <th>std err</th>      <th>t</th>      <th>P>|t|</th>  <th>[0.025</th>    <th>0.975]</th>  \n",
       "</tr>\n",
       "<tr>\n",
       "  <th>const</th>          <td>  761.2897</td> <td>   95.115</td> <td>    8.004</td> <td> 0.000</td> <td>  574.575</td> <td>  948.004</td>\n",
       "</tr>\n",
       "<tr>\n",
       "  <th>area</th>           <td>    0.0444</td> <td>    0.055</td> <td>    0.801</td> <td> 0.423</td> <td>   -0.064</td> <td>    0.153</td>\n",
       "</tr>\n",
       "<tr>\n",
       "  <th>rooms</th>          <td>  122.0606</td> <td>   36.285</td> <td>    3.364</td> <td> 0.001</td> <td>   50.832</td> <td>  193.289</td>\n",
       "</tr>\n",
       "<tr>\n",
       "  <th>bathroom</th>       <td>  548.8735</td> <td>   34.834</td> <td>   15.757</td> <td> 0.000</td> <td>  480.494</td> <td>  617.253</td>\n",
       "</tr>\n",
       "<tr>\n",
       "  <th>parking_spaces</th> <td>  274.6749</td> <td>   24.818</td> <td>   11.067</td> <td> 0.000</td> <td>  225.955</td> <td>  323.394</td>\n",
       "</tr>\n",
       "<tr>\n",
       "  <th>floor</th>          <td>    9.8598</td> <td>    5.506</td> <td>    1.791</td> <td> 0.074</td> <td>   -0.949</td> <td>   20.669</td>\n",
       "</tr>\n",
       "<tr>\n",
       "  <th>not acept</th>      <td>  -27.1275</td> <td>   64.811</td> <td>   -0.419</td> <td> 0.676</td> <td> -154.353</td> <td>  100.098</td>\n",
       "</tr>\n",
       "<tr>\n",
       "  <th>not furnished</th>  <td> -683.5406</td> <td>   76.827</td> <td>   -8.897</td> <td> 0.000</td> <td> -834.355</td> <td> -532.727</td>\n",
       "</tr>\n",
       "</table>\n",
       "<table class=\"simpletable\">\n",
       "<tr>\n",
       "  <th>Omnibus:</th>       <td>199.139</td> <th>  Durbin-Watson:     </th> <td>   2.007</td> \n",
       "</tr>\n",
       "<tr>\n",
       "  <th>Prob(Omnibus):</th> <td> 0.000</td>  <th>  Jarque-Bera (JB):  </th> <td> 659.205</td> \n",
       "</tr>\n",
       "<tr>\n",
       "  <th>Skew:</th>          <td> 1.204</td>  <th>  Prob(JB):          </th> <td>7.17e-144</td>\n",
       "</tr>\n",
       "<tr>\n",
       "  <th>Kurtosis:</th>      <td> 6.799</td>  <th>  Cond. No.          </th> <td>2.14e+03</td> \n",
       "</tr>\n",
       "</table><br/><br/>Warnings:<br/>[1] Standard Errors assume that the covariance matrix of the errors is correctly specified.<br/>[2] The condition number is large, 2.14e+03. This might indicate that there are<br/>strong multicollinearity or other numerical problems."
      ],
      "text/plain": [
       "<class 'statsmodels.iolib.summary.Summary'>\n",
       "\"\"\"\n",
       "                            OLS Regression Results                            \n",
       "==============================================================================\n",
       "Dep. Variable:            rent_amount   R-squared:                       0.634\n",
       "Model:                            OLS   Adj. R-squared:                  0.630\n",
       "Method:                 Least Squares   F-statistic:                     191.2\n",
       "Date:                Mon, 04 May 2020   Prob (F-statistic):          5.16e-164\n",
       "Time:                        15:21:31   Log-Likelihood:                -6230.0\n",
       "No. Observations:                 782   AIC:                         1.248e+04\n",
       "Df Residuals:                     774   BIC:                         1.251e+04\n",
       "Df Model:                           7                                         \n",
       "Covariance Type:            nonrobust                                         \n",
       "==================================================================================\n",
       "                     coef    std err          t      P>|t|      [0.025      0.975]\n",
       "----------------------------------------------------------------------------------\n",
       "const            761.2897     95.115      8.004      0.000     574.575     948.004\n",
       "area               0.0444      0.055      0.801      0.423      -0.064       0.153\n",
       "rooms            122.0606     36.285      3.364      0.001      50.832     193.289\n",
       "bathroom         548.8735     34.834     15.757      0.000     480.494     617.253\n",
       "parking_spaces   274.6749     24.818     11.067      0.000     225.955     323.394\n",
       "floor              9.8598      5.506      1.791      0.074      -0.949      20.669\n",
       "not acept        -27.1275     64.811     -0.419      0.676    -154.353     100.098\n",
       "not furnished   -683.5406     76.827     -8.897      0.000    -834.355    -532.727\n",
       "==============================================================================\n",
       "Omnibus:                      199.139   Durbin-Watson:                   2.007\n",
       "Prob(Omnibus):                  0.000   Jarque-Bera (JB):              659.205\n",
       "Skew:                           1.204   Prob(JB):                    7.17e-144\n",
       "Kurtosis:                       6.799   Cond. No.                     2.14e+03\n",
       "==============================================================================\n",
       "\n",
       "Warnings:\n",
       "[1] Standard Errors assume that the covariance matrix of the errors is correctly specified.\n",
       "[2] The condition number is large, 2.14e+03. This might indicate that there are\n",
       "strong multicollinearity or other numerical problems.\n",
       "\"\"\""
      ]
     },
     "execution_count": 50,
     "metadata": {},
     "output_type": "execute_result"
    }
   ],
   "source": [
    "model2 = sm.OLS(Y2_campinas,add_constant(X2_campinas))\n",
    "fitted_model2 = model2.fit()\n",
    "fitted_model2.summary()"
   ]
  },
  {
   "cell_type": "code",
   "execution_count": 51,
   "metadata": {},
   "outputs": [],
   "source": [
    "X2_campinas = X2_campinas.drop('not acept',axis=1)"
   ]
  },
  {
   "cell_type": "code",
   "execution_count": 52,
   "metadata": {},
   "outputs": [
    {
     "data": {
      "text/html": [
       "<table class=\"simpletable\">\n",
       "<caption>OLS Regression Results</caption>\n",
       "<tr>\n",
       "  <th>Dep. Variable:</th>       <td>rent_amount</td>   <th>  R-squared:         </th> <td>   0.634</td> \n",
       "</tr>\n",
       "<tr>\n",
       "  <th>Model:</th>                   <td>OLS</td>       <th>  Adj. R-squared:    </th> <td>   0.631</td> \n",
       "</tr>\n",
       "<tr>\n",
       "  <th>Method:</th>             <td>Least Squares</td>  <th>  F-statistic:       </th> <td>   223.3</td> \n",
       "</tr>\n",
       "<tr>\n",
       "  <th>Date:</th>             <td>Mon, 04 May 2020</td> <th>  Prob (F-statistic):</th> <td>3.61e-165</td>\n",
       "</tr>\n",
       "<tr>\n",
       "  <th>Time:</th>                 <td>15:21:32</td>     <th>  Log-Likelihood:    </th> <td> -6230.1</td> \n",
       "</tr>\n",
       "<tr>\n",
       "  <th>No. Observations:</th>      <td>   782</td>      <th>  AIC:               </th> <td>1.247e+04</td>\n",
       "</tr>\n",
       "<tr>\n",
       "  <th>Df Residuals:</th>          <td>   775</td>      <th>  BIC:               </th> <td>1.251e+04</td>\n",
       "</tr>\n",
       "<tr>\n",
       "  <th>Df Model:</th>              <td>     6</td>      <th>                     </th>     <td> </td>    \n",
       "</tr>\n",
       "<tr>\n",
       "  <th>Covariance Type:</th>      <td>nonrobust</td>    <th>                     </th>     <td> </td>    \n",
       "</tr>\n",
       "</table>\n",
       "<table class=\"simpletable\">\n",
       "<tr>\n",
       "         <td></td>           <th>coef</th>     <th>std err</th>      <th>t</th>      <th>P>|t|</th>  <th>[0.025</th>    <th>0.975]</th>  \n",
       "</tr>\n",
       "<tr>\n",
       "  <th>const</th>          <td>  750.4386</td> <td>   91.465</td> <td>    8.205</td> <td> 0.000</td> <td>  570.889</td> <td>  929.988</td>\n",
       "</tr>\n",
       "<tr>\n",
       "  <th>area</th>           <td>    0.0449</td> <td>    0.055</td> <td>    0.810</td> <td> 0.418</td> <td>   -0.064</td> <td>    0.154</td>\n",
       "</tr>\n",
       "<tr>\n",
       "  <th>rooms</th>          <td>  123.8556</td> <td>   36.011</td> <td>    3.439</td> <td> 0.001</td> <td>   53.164</td> <td>  194.547</td>\n",
       "</tr>\n",
       "<tr>\n",
       "  <th>bathroom</th>       <td>  547.9435</td> <td>   34.744</td> <td>   15.771</td> <td> 0.000</td> <td>  479.739</td> <td>  616.148</td>\n",
       "</tr>\n",
       "<tr>\n",
       "  <th>parking_spaces</th> <td>  275.5634</td> <td>   24.714</td> <td>   11.150</td> <td> 0.000</td> <td>  227.048</td> <td>  324.078</td>\n",
       "</tr>\n",
       "<tr>\n",
       "  <th>floor</th>          <td>    9.8604</td> <td>    5.503</td> <td>    1.792</td> <td> 0.074</td> <td>   -0.943</td> <td>   20.664</td>\n",
       "</tr>\n",
       "<tr>\n",
       "  <th>not furnished</th>  <td> -681.3358</td> <td>   76.605</td> <td>   -8.894</td> <td> 0.000</td> <td> -831.714</td> <td> -530.957</td>\n",
       "</tr>\n",
       "</table>\n",
       "<table class=\"simpletable\">\n",
       "<tr>\n",
       "  <th>Omnibus:</th>       <td>199.213</td> <th>  Durbin-Watson:     </th> <td>   2.004</td> \n",
       "</tr>\n",
       "<tr>\n",
       "  <th>Prob(Omnibus):</th> <td> 0.000</td>  <th>  Jarque-Bera (JB):  </th> <td> 665.543</td> \n",
       "</tr>\n",
       "<tr>\n",
       "  <th>Skew:</th>          <td> 1.201</td>  <th>  Prob(JB):          </th> <td>3.01e-145</td>\n",
       "</tr>\n",
       "<tr>\n",
       "  <th>Kurtosis:</th>      <td> 6.828</td>  <th>  Cond. No.          </th> <td>2.07e+03</td> \n",
       "</tr>\n",
       "</table><br/><br/>Warnings:<br/>[1] Standard Errors assume that the covariance matrix of the errors is correctly specified.<br/>[2] The condition number is large, 2.07e+03. This might indicate that there are<br/>strong multicollinearity or other numerical problems."
      ],
      "text/plain": [
       "<class 'statsmodels.iolib.summary.Summary'>\n",
       "\"\"\"\n",
       "                            OLS Regression Results                            \n",
       "==============================================================================\n",
       "Dep. Variable:            rent_amount   R-squared:                       0.634\n",
       "Model:                            OLS   Adj. R-squared:                  0.631\n",
       "Method:                 Least Squares   F-statistic:                     223.3\n",
       "Date:                Mon, 04 May 2020   Prob (F-statistic):          3.61e-165\n",
       "Time:                        15:21:32   Log-Likelihood:                -6230.1\n",
       "No. Observations:                 782   AIC:                         1.247e+04\n",
       "Df Residuals:                     775   BIC:                         1.251e+04\n",
       "Df Model:                           6                                         \n",
       "Covariance Type:            nonrobust                                         \n",
       "==================================================================================\n",
       "                     coef    std err          t      P>|t|      [0.025      0.975]\n",
       "----------------------------------------------------------------------------------\n",
       "const            750.4386     91.465      8.205      0.000     570.889     929.988\n",
       "area               0.0449      0.055      0.810      0.418      -0.064       0.154\n",
       "rooms            123.8556     36.011      3.439      0.001      53.164     194.547\n",
       "bathroom         547.9435     34.744     15.771      0.000     479.739     616.148\n",
       "parking_spaces   275.5634     24.714     11.150      0.000     227.048     324.078\n",
       "floor              9.8604      5.503      1.792      0.074      -0.943      20.664\n",
       "not furnished   -681.3358     76.605     -8.894      0.000    -831.714    -530.957\n",
       "==============================================================================\n",
       "Omnibus:                      199.213   Durbin-Watson:                   2.004\n",
       "Prob(Omnibus):                  0.000   Jarque-Bera (JB):              665.543\n",
       "Skew:                           1.201   Prob(JB):                    3.01e-145\n",
       "Kurtosis:                       6.828   Cond. No.                     2.07e+03\n",
       "==============================================================================\n",
       "\n",
       "Warnings:\n",
       "[1] Standard Errors assume that the covariance matrix of the errors is correctly specified.\n",
       "[2] The condition number is large, 2.07e+03. This might indicate that there are\n",
       "strong multicollinearity or other numerical problems.\n",
       "\"\"\""
      ]
     },
     "execution_count": 52,
     "metadata": {},
     "output_type": "execute_result"
    }
   ],
   "source": [
    "model3 = sm.OLS(Y2_campinas,add_constant(X2_campinas))\n",
    "fitted_model3 = model3.fit()\n",
    "fitted_model3.summary()"
   ]
  },
  {
   "cell_type": "code",
   "execution_count": 53,
   "metadata": {},
   "outputs": [
    {
     "data": {
      "text/html": [
       "<table class=\"simpletable\">\n",
       "<caption>OLS Regression Results</caption>\n",
       "<tr>\n",
       "  <th>Dep. Variable:</th>       <td>rent_amount</td>   <th>  R-squared:         </th> <td>   0.633</td> \n",
       "</tr>\n",
       "<tr>\n",
       "  <th>Model:</th>                   <td>OLS</td>       <th>  Adj. R-squared:    </th> <td>   0.631</td> \n",
       "</tr>\n",
       "<tr>\n",
       "  <th>Method:</th>             <td>Least Squares</td>  <th>  F-statistic:       </th> <td>   267.9</td> \n",
       "</tr>\n",
       "<tr>\n",
       "  <th>Date:</th>             <td>Mon, 04 May 2020</td> <th>  Prob (F-statistic):</th> <td>2.91e-166</td>\n",
       "</tr>\n",
       "<tr>\n",
       "  <th>Time:</th>                 <td>15:21:32</td>     <th>  Log-Likelihood:    </th> <td> -6230.4</td> \n",
       "</tr>\n",
       "<tr>\n",
       "  <th>No. Observations:</th>      <td>   782</td>      <th>  AIC:               </th> <td>1.247e+04</td>\n",
       "</tr>\n",
       "<tr>\n",
       "  <th>Df Residuals:</th>          <td>   776</td>      <th>  BIC:               </th> <td>1.250e+04</td>\n",
       "</tr>\n",
       "<tr>\n",
       "  <th>Df Model:</th>              <td>     5</td>      <th>                     </th>     <td> </td>    \n",
       "</tr>\n",
       "<tr>\n",
       "  <th>Covariance Type:</th>      <td>nonrobust</td>    <th>                     </th>     <td> </td>    \n",
       "</tr>\n",
       "</table>\n",
       "<table class=\"simpletable\">\n",
       "<tr>\n",
       "         <td></td>           <th>coef</th>     <th>std err</th>      <th>t</th>      <th>P>|t|</th>  <th>[0.025</th>    <th>0.975]</th>  \n",
       "</tr>\n",
       "<tr>\n",
       "  <th>const</th>          <td>  748.7174</td> <td>   91.420</td> <td>    8.190</td> <td> 0.000</td> <td>  569.257</td> <td>  928.178</td>\n",
       "</tr>\n",
       "<tr>\n",
       "  <th>rooms</th>          <td>  125.6377</td> <td>   35.936</td> <td>    3.496</td> <td> 0.000</td> <td>   55.094</td> <td>  196.181</td>\n",
       "</tr>\n",
       "<tr>\n",
       "  <th>bathroom</th>       <td>  550.1318</td> <td>   34.631</td> <td>   15.885</td> <td> 0.000</td> <td>  482.149</td> <td>  618.114</td>\n",
       "</tr>\n",
       "<tr>\n",
       "  <th>parking_spaces</th> <td>  274.8579</td> <td>   24.694</td> <td>   11.131</td> <td> 0.000</td> <td>  226.384</td> <td>  323.332</td>\n",
       "</tr>\n",
       "<tr>\n",
       "  <th>floor</th>          <td>    9.7238</td> <td>    5.500</td> <td>    1.768</td> <td> 0.077</td> <td>   -1.072</td> <td>   20.520</td>\n",
       "</tr>\n",
       "<tr>\n",
       "  <th>not furnished</th>  <td> -680.4858</td> <td>   76.581</td> <td>   -8.886</td> <td> 0.000</td> <td> -830.817</td> <td> -530.155</td>\n",
       "</tr>\n",
       "</table>\n",
       "<table class=\"simpletable\">\n",
       "<tr>\n",
       "  <th>Omnibus:</th>       <td>199.097</td> <th>  Durbin-Watson:     </th> <td>   2.003</td> \n",
       "</tr>\n",
       "<tr>\n",
       "  <th>Prob(Omnibus):</th> <td> 0.000</td>  <th>  Jarque-Bera (JB):  </th> <td> 666.759</td> \n",
       "</tr>\n",
       "<tr>\n",
       "  <th>Skew:</th>          <td> 1.199</td>  <th>  Prob(JB):          </th> <td>1.64e-145</td>\n",
       "</tr>\n",
       "<tr>\n",
       "  <th>Kurtosis:</th>      <td> 6.835</td>  <th>  Cond. No.          </th> <td>    29.7</td> \n",
       "</tr>\n",
       "</table><br/><br/>Warnings:<br/>[1] Standard Errors assume that the covariance matrix of the errors is correctly specified."
      ],
      "text/plain": [
       "<class 'statsmodels.iolib.summary.Summary'>\n",
       "\"\"\"\n",
       "                            OLS Regression Results                            \n",
       "==============================================================================\n",
       "Dep. Variable:            rent_amount   R-squared:                       0.633\n",
       "Model:                            OLS   Adj. R-squared:                  0.631\n",
       "Method:                 Least Squares   F-statistic:                     267.9\n",
       "Date:                Mon, 04 May 2020   Prob (F-statistic):          2.91e-166\n",
       "Time:                        15:21:32   Log-Likelihood:                -6230.4\n",
       "No. Observations:                 782   AIC:                         1.247e+04\n",
       "Df Residuals:                     776   BIC:                         1.250e+04\n",
       "Df Model:                           5                                         \n",
       "Covariance Type:            nonrobust                                         \n",
       "==================================================================================\n",
       "                     coef    std err          t      P>|t|      [0.025      0.975]\n",
       "----------------------------------------------------------------------------------\n",
       "const            748.7174     91.420      8.190      0.000     569.257     928.178\n",
       "rooms            125.6377     35.936      3.496      0.000      55.094     196.181\n",
       "bathroom         550.1318     34.631     15.885      0.000     482.149     618.114\n",
       "parking_spaces   274.8579     24.694     11.131      0.000     226.384     323.332\n",
       "floor              9.7238      5.500      1.768      0.077      -1.072      20.520\n",
       "not furnished   -680.4858     76.581     -8.886      0.000    -830.817    -530.155\n",
       "==============================================================================\n",
       "Omnibus:                      199.097   Durbin-Watson:                   2.003\n",
       "Prob(Omnibus):                  0.000   Jarque-Bera (JB):              666.759\n",
       "Skew:                           1.199   Prob(JB):                    1.64e-145\n",
       "Kurtosis:                       6.835   Cond. No.                         29.7\n",
       "==============================================================================\n",
       "\n",
       "Warnings:\n",
       "[1] Standard Errors assume that the covariance matrix of the errors is correctly specified.\n",
       "\"\"\""
      ]
     },
     "execution_count": 53,
     "metadata": {},
     "output_type": "execute_result"
    }
   ],
   "source": [
    "X2_campinas = X2_campinas.drop('area',axis=1)\n",
    "model4 = sm.OLS(Y2_campinas,add_constant(X2_campinas))\n",
    "fitted_model4 = model4.fit()\n",
    "fitted_model4.summary()"
   ]
  },
  {
   "cell_type": "code",
   "execution_count": 54,
   "metadata": {},
   "outputs": [
    {
     "data": {
      "text/html": [
       "<table class=\"simpletable\">\n",
       "<caption>OLS Regression Results</caption>\n",
       "<tr>\n",
       "  <th>Dep. Variable:</th>       <td>rent_amount</td>   <th>  R-squared:         </th> <td>   0.632</td> \n",
       "</tr>\n",
       "<tr>\n",
       "  <th>Model:</th>                   <td>OLS</td>       <th>  Adj. R-squared:    </th> <td>   0.630</td> \n",
       "</tr>\n",
       "<tr>\n",
       "  <th>Method:</th>             <td>Least Squares</td>  <th>  F-statistic:       </th> <td>   333.2</td> \n",
       "</tr>\n",
       "<tr>\n",
       "  <th>Date:</th>             <td>Mon, 04 May 2020</td> <th>  Prob (F-statistic):</th> <td>7.10e-167</td>\n",
       "</tr>\n",
       "<tr>\n",
       "  <th>Time:</th>                 <td>15:21:32</td>     <th>  Log-Likelihood:    </th> <td> -6232.0</td> \n",
       "</tr>\n",
       "<tr>\n",
       "  <th>No. Observations:</th>      <td>   782</td>      <th>  AIC:               </th> <td>1.247e+04</td>\n",
       "</tr>\n",
       "<tr>\n",
       "  <th>Df Residuals:</th>          <td>   777</td>      <th>  BIC:               </th> <td>1.250e+04</td>\n",
       "</tr>\n",
       "<tr>\n",
       "  <th>Df Model:</th>              <td>     4</td>      <th>                     </th>     <td> </td>    \n",
       "</tr>\n",
       "<tr>\n",
       "  <th>Covariance Type:</th>      <td>nonrobust</td>    <th>                     </th>     <td> </td>    \n",
       "</tr>\n",
       "</table>\n",
       "<table class=\"simpletable\">\n",
       "<tr>\n",
       "         <td></td>           <th>coef</th>     <th>std err</th>      <th>t</th>      <th>P>|t|</th>  <th>[0.025</th>    <th>0.975]</th>  \n",
       "</tr>\n",
       "<tr>\n",
       "  <th>const</th>          <td>  807.9770</td> <td>   85.171</td> <td>    9.487</td> <td> 0.000</td> <td>  640.784</td> <td>  975.170</td>\n",
       "</tr>\n",
       "<tr>\n",
       "  <th>rooms</th>          <td>  119.8759</td> <td>   35.837</td> <td>    3.345</td> <td> 0.001</td> <td>   49.527</td> <td>  190.225</td>\n",
       "</tr>\n",
       "<tr>\n",
       "  <th>bathroom</th>       <td>  555.0288</td> <td>   34.568</td> <td>   16.056</td> <td> 0.000</td> <td>  487.172</td> <td>  622.886</td>\n",
       "</tr>\n",
       "<tr>\n",
       "  <th>parking_spaces</th> <td>  271.1575</td> <td>   24.638</td> <td>   11.006</td> <td> 0.000</td> <td>  222.792</td> <td>  319.523</td>\n",
       "</tr>\n",
       "<tr>\n",
       "  <th>not furnished</th>  <td> -688.9744</td> <td>   76.535</td> <td>   -9.002</td> <td> 0.000</td> <td> -839.214</td> <td> -538.734</td>\n",
       "</tr>\n",
       "</table>\n",
       "<table class=\"simpletable\">\n",
       "<tr>\n",
       "  <th>Omnibus:</th>       <td>201.746</td> <th>  Durbin-Watson:     </th> <td>   2.014</td> \n",
       "</tr>\n",
       "<tr>\n",
       "  <th>Prob(Omnibus):</th> <td> 0.000</td>  <th>  Jarque-Bera (JB):  </th> <td> 686.475</td> \n",
       "</tr>\n",
       "<tr>\n",
       "  <th>Skew:</th>          <td> 1.210</td>  <th>  Prob(JB):          </th> <td>8.59e-150</td>\n",
       "</tr>\n",
       "<tr>\n",
       "  <th>Kurtosis:</th>      <td> 6.900</td>  <th>  Cond. No.          </th> <td>    15.5</td> \n",
       "</tr>\n",
       "</table><br/><br/>Warnings:<br/>[1] Standard Errors assume that the covariance matrix of the errors is correctly specified."
      ],
      "text/plain": [
       "<class 'statsmodels.iolib.summary.Summary'>\n",
       "\"\"\"\n",
       "                            OLS Regression Results                            \n",
       "==============================================================================\n",
       "Dep. Variable:            rent_amount   R-squared:                       0.632\n",
       "Model:                            OLS   Adj. R-squared:                  0.630\n",
       "Method:                 Least Squares   F-statistic:                     333.2\n",
       "Date:                Mon, 04 May 2020   Prob (F-statistic):          7.10e-167\n",
       "Time:                        15:21:32   Log-Likelihood:                -6232.0\n",
       "No. Observations:                 782   AIC:                         1.247e+04\n",
       "Df Residuals:                     777   BIC:                         1.250e+04\n",
       "Df Model:                           4                                         \n",
       "Covariance Type:            nonrobust                                         \n",
       "==================================================================================\n",
       "                     coef    std err          t      P>|t|      [0.025      0.975]\n",
       "----------------------------------------------------------------------------------\n",
       "const            807.9770     85.171      9.487      0.000     640.784     975.170\n",
       "rooms            119.8759     35.837      3.345      0.001      49.527     190.225\n",
       "bathroom         555.0288     34.568     16.056      0.000     487.172     622.886\n",
       "parking_spaces   271.1575     24.638     11.006      0.000     222.792     319.523\n",
       "not furnished   -688.9744     76.535     -9.002      0.000    -839.214    -538.734\n",
       "==============================================================================\n",
       "Omnibus:                      201.746   Durbin-Watson:                   2.014\n",
       "Prob(Omnibus):                  0.000   Jarque-Bera (JB):              686.475\n",
       "Skew:                           1.210   Prob(JB):                    8.59e-150\n",
       "Kurtosis:                       6.900   Cond. No.                         15.5\n",
       "==============================================================================\n",
       "\n",
       "Warnings:\n",
       "[1] Standard Errors assume that the covariance matrix of the errors is correctly specified.\n",
       "\"\"\""
      ]
     },
     "execution_count": 54,
     "metadata": {},
     "output_type": "execute_result"
    }
   ],
   "source": [
    "X2_campinas = X2_campinas.drop('floor',axis=1)\n",
    "model5 = sm.OLS(Y2_campinas,add_constant(X2_campinas))\n",
    "fitted_model5 = model5.fit()\n",
    "fitted_model5.summary()"
   ]
  },
  {
   "cell_type": "markdown",
   "metadata": {},
   "source": [
    "without  outiers:\n",
    "\n",
    "- R-squared:\t0.632\n",
    "- Prob (F-statistic):\t7.10e-167\n",
    "- AIC: 1.247e+04\n",
    "\n",
    "with outiers:\n",
    "\n",
    "- R-squared:\t0.653\n",
    "- Prob (F-statistic):\t1.27e-194\n",
    "- AIC: 1.474e+04\n",
    "\n",
    "--> We can deduce that the AIC of the model without outliers is less than the one with outliers.So this model minimizes the estimated information loss."
   ]
  },
  {
   "cell_type": "markdown",
   "metadata": {},
   "source": [
    "## Multicolinearity:"
   ]
  },
  {
   "cell_type": "code",
   "execution_count": 55,
   "metadata": {},
   "outputs": [
    {
     "name": "stdout",
     "output_type": "stream",
     "text": [
      "rooms: 10.723422210219711\n",
      "bathroom: 7.537765960215273\n",
      "not furnished: 4.307550931583564\n",
      "parking_spaces: 3.2783284244822726\n"
     ]
    }
   ],
   "source": [
    "vifs = {i:VIF(X2_campinas.values, idx) for idx,i in enumerate(X2_campinas.columns.to_list())}\n",
    "vifs = dict(sorted(vifs.items(), key=lambda x: x[1], reverse=True))\n",
    "for key, vif in vifs.items():\n",
    "    print(f'{key}: {vif}')"
   ]
  },
  {
   "cell_type": "markdown",
   "metadata": {},
   "source": [
    "1 case of possible multicolinearity among predictors"
   ]
  },
  {
   "cell_type": "markdown",
   "metadata": {},
   "source": [
    "## Autocorrelation"
   ]
  },
  {
   "cell_type": "code",
   "execution_count": 56,
   "metadata": {},
   "outputs": [
    {
     "data": {
      "text/plain": [
       "2.014466841011868"
      ]
     },
     "execution_count": 56,
     "metadata": {},
     "output_type": "execute_result"
    }
   ],
   "source": [
    "resid2 = fitted_model5.resid\n",
    "durbin_watson(resid2)"
   ]
  },
  {
   "cell_type": "markdown",
   "metadata": {},
   "source": [
    "## Linearity"
   ]
  },
  {
   "cell_type": "code",
   "execution_count": 57,
   "metadata": {},
   "outputs": [
    {
     "data": {
      "text/plain": [
       "Text(0.5, 1.0, 'Predicted rent price VS current price')"
      ]
     },
     "execution_count": 57,
     "metadata": {},
     "output_type": "execute_result"
    },
    {
     "data": {
      "image/png": "[encoded data removed]",
      "text/plain": [
       "<Figure size 432x288 with 1 Axes>"
      ]
     },
     "metadata": {
      "needs_background": "light"
     },
     "output_type": "display_data"
    }
   ],
   "source": [
    "import numpy as np\n",
    "Y2_predict = fitted_model5.predict(add_constant(X2_campinas))\n",
    "sns.regplot((Y2_campinas),(Y2_predict))\n",
    "\n",
    "ax = plt.gca()\n",
    "ax.set_title(\"Predicted rent price VS current price\")"
   ]
  },
  {
   "cell_type": "markdown",
   "metadata": {},
   "source": [
    "As a result, we still having the linear trend but multiple spines"
   ]
  },
  {
   "cell_type": "markdown",
   "metadata": {},
   "source": [
    "## HOMOSCEDASTICITY"
   ]
  },
  {
   "cell_type": "code",
   "execution_count": 58,
   "metadata": {},
   "outputs": [
    {
     "data": {
      "image/png": "[encoded data removed]",
      "text/plain": [
       "<Figure size 864x432 with 1 Axes>"
      ]
     },
     "metadata": {
      "needs_background": "light"
     },
     "output_type": "display_data"
    }
   ],
   "source": [
    "plt.subplots(figsize=(12, 6))\n",
    "ax = plt.subplot(111)  # To remove spines\n",
    "plt.scatter(x=range(X2_campinas.shape[0]), y=resid2, alpha=0.5)\n",
    "plt.plot(repeat(0, X2_campinas.shape[0]), color='darkorange', linestyle='--')\n",
    "plt.title('Residuals')\n",
    "plt.show()"
   ]
  },
  {
   "cell_type": "code",
   "execution_count": 59,
   "metadata": {},
   "outputs": [
    {
     "data": {
      "text/plain": [
       "{'Lagrange Multiplier': 147.6428440973137,\n",
       " 'pvalue for LM': 8.704899431076121e-33,\n",
       " 'F stats': 59.306322776821546,\n",
       " 'pvalue for Fstats': 8.111451034278407e-35}"
      ]
     },
     "execution_count": 59,
     "metadata": {},
     "output_type": "execute_result"
    }
   ],
   "source": [
    "lnames=['Lagrange Multiplier', 'pvalue for LM','F stats','pvalue for Fstats']\n",
    "{lnames[idx]:het_breuschpagan(resid,X_campinas[:])[idx] for idx in range(4)}"
   ]
  },
  {
   "cell_type": "markdown",
   "metadata": {},
   "source": [
    "## Exogeneity"
   ]
  },
  {
   "cell_type": "code",
   "execution_count": 60,
   "metadata": {},
   "outputs": [
    {
     "data": {
      "image/png": "[encoded data removed]",
      "text/plain": [
       "<Figure size 864x432 with 1 Axes>"
      ]
     },
     "metadata": {
      "needs_background": "light"
     },
     "output_type": "display_data"
    }
   ],
   "source": [
    "plt.subplots(figsize=(12, 6))\n",
    "plt.title('Distribution of Residuals')\n",
    "sns.distplot(resid2)\n",
    "plt.show()"
   ]
  },
  {
   "cell_type": "code",
   "execution_count": 61,
   "metadata": {},
   "outputs": [
    {
     "data": {
      "text/plain": [
       "0.0"
      ]
     },
     "execution_count": 61,
     "metadata": {},
     "output_type": "execute_result"
    }
   ],
   "source": [
    "## checking for normality\n",
    "normal_ad(resid2)[1]"
   ]
  },
  {
   "cell_type": "code",
   "execution_count": null,
   "metadata": {},
   "outputs": [],
   "source": []
  }
 ],
 "metadata": {
  "kernelspec": {
   "display_name": "Python 3",
   "language": "python",
   "name": "python3"
  },
  "language_info": {
   "codemirror_mode": {
    "name": "ipython",
    "version": 3
   },
   "file_extension": ".py",
   "mimetype": "text/x-python",
   "name": "python",
   "nbconvert_exporter": "python",
   "pygments_lexer": "ipython3",
   "version": "3.7.6"
  }
 },
 "nbformat": 4,
 "nbformat_minor": 4
}
