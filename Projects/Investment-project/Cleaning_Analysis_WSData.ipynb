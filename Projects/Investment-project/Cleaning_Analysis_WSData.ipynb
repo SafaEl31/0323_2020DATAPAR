{
 "cells": [
  {
   "cell_type": "code",
   "execution_count": 298,
   "metadata": {},
   "outputs": [],
   "source": [
    "import pandas as pd"
   ]
  },
  {
   "cell_type": "code",
   "execution_count": 299,
   "metadata": {},
   "outputs": [],
   "source": [
    "df2 = pd.read_csv('startup2.csv')"
   ]
  },
  {
   "cell_type": "code",
   "execution_count": 300,
   "metadata": {},
   "outputs": [
    {
     "data": {
      "text/html": [
       "<div>\n",
       "<style scoped>\n",
       "    .dataframe tbody tr th:only-of-type {\n",
       "        vertical-align: middle;\n",
       "    }\n",
       "\n",
       "    .dataframe tbody tr th {\n",
       "        vertical-align: top;\n",
       "    }\n",
       "\n",
       "    .dataframe thead th {\n",
       "        text-align: right;\n",
       "    }\n",
       "</style>\n",
       "<table border=\"1\" class=\"dataframe\">\n",
       "  <thead>\n",
       "    <tr style=\"text-align: right;\">\n",
       "      <th></th>\n",
       "      <th>Unnamed: 0</th>\n",
       "      <th>name</th>\n",
       "      <th>description</th>\n",
       "      <th>founded_date</th>\n",
       "      <th>category_list</th>\n",
       "      <th>total_funding_amout</th>\n",
       "    </tr>\n",
       "  </thead>\n",
       "  <tbody>\n",
       "    <tr>\n",
       "      <th>0</th>\n",
       "      <td>0</td>\n",
       "      <td>500px</td>\n",
       "      <td>We're the premier community for inspiring phot...</td>\n",
       "      <td>Founded: October 10, 2009</td>\n",
       "      <td>App,Mobile,Photographers,Photos,Web,Photograph...</td>\n",
       "      <td>22325000</td>\n",
       "    </tr>\n",
       "    <tr>\n",
       "      <th>1</th>\n",
       "      <td>0</td>\n",
       "      <td>Canva</td>\n",
       "      <td>Amazingly simple graphic design. Canva makes g...</td>\n",
       "      <td>Founded: January 01, 2012</td>\n",
       "      <td>Web Design,Simple,Graphic Design,Design,Tool,P...</td>\n",
       "      <td>49555000</td>\n",
       "    </tr>\n",
       "    <tr>\n",
       "      <th>2</th>\n",
       "      <td>0</td>\n",
       "      <td>Duolingo</td>\n",
       "      <td>Free language education for the world. Accordi...</td>\n",
       "      <td>Founded: November 01, 2011</td>\n",
       "      <td>E-Learning,Education,Internet,Language Learning</td>\n",
       "      <td>108300000</td>\n",
       "    </tr>\n",
       "    <tr>\n",
       "      <th>3</th>\n",
       "      <td>0</td>\n",
       "      <td>Coursera</td>\n",
       "      <td>Coursera - We are a social entrepreneurship co...</td>\n",
       "      <td>Founded: January 01, 2012</td>\n",
       "      <td>Edtech,Education,Enterprise,Internet</td>\n",
       "      <td>210100000</td>\n",
       "    </tr>\n",
       "    <tr>\n",
       "      <th>4</th>\n",
       "      <td>0</td>\n",
       "      <td>Giphy</td>\n",
       "      <td>Animated GIF search. The first and largest GIF...</td>\n",
       "      <td>Founded: February 01, 2013</td>\n",
       "      <td>Internet,Photo Sharing,Search Engine</td>\n",
       "      <td>150949998</td>\n",
       "    </tr>\n",
       "  </tbody>\n",
       "</table>\n",
       "</div>"
      ],
      "text/plain": [
       "   Unnamed: 0      name                                        description  \\\n",
       "0           0     500px  We're the premier community for inspiring phot...   \n",
       "1           0     Canva  Amazingly simple graphic design. Canva makes g...   \n",
       "2           0  Duolingo  Free language education for the world. Accordi...   \n",
       "3           0  Coursera  Coursera - We are a social entrepreneurship co...   \n",
       "4           0     Giphy  Animated GIF search. The first and largest GIF...   \n",
       "\n",
       "                 founded_date  \\\n",
       "0   Founded: October 10, 2009   \n",
       "1   Founded: January 01, 2012   \n",
       "2  Founded: November 01, 2011   \n",
       "3   Founded: January 01, 2012   \n",
       "4  Founded: February 01, 2013   \n",
       "\n",
       "                                       category_list  total_funding_amout  \n",
       "0  App,Mobile,Photographers,Photos,Web,Photograph...             22325000  \n",
       "1  Web Design,Simple,Graphic Design,Design,Tool,P...             49555000  \n",
       "2    E-Learning,Education,Internet,Language Learning            108300000  \n",
       "3               Edtech,Education,Enterprise,Internet            210100000  \n",
       "4               Internet,Photo Sharing,Search Engine            150949998  "
      ]
     },
     "execution_count": 300,
     "metadata": {},
     "output_type": "execute_result"
    }
   ],
   "source": [
    "df2.head()"
   ]
  },
  {
   "cell_type": "markdown",
   "metadata": {},
   "source": [
    "## Dropping missing values and inconsistent column"
   ]
  },
  {
   "cell_type": "code",
   "execution_count": 301,
   "metadata": {},
   "outputs": [],
   "source": [
    "df2.dropna(inplace=True)"
   ]
  },
  {
   "cell_type": "code",
   "execution_count": 302,
   "metadata": {},
   "outputs": [],
   "source": [
    "df2.drop(columns='Unnamed: 0',inplace=True)"
   ]
  },
  {
   "cell_type": "markdown",
   "metadata": {},
   "source": [
    "## Cleaning fouded_date to get the year only"
   ]
  },
  {
   "cell_type": "code",
   "execution_count": 303,
   "metadata": {},
   "outputs": [
    {
     "data": {
      "text/plain": [
       "'The founded_date type is mixed between list and float so we should convert it before cleaning into string'"
      ]
     },
     "execution_count": 303,
     "metadata": {},
     "output_type": "execute_result"
    }
   ],
   "source": [
    "'The founded_date type is mixed between list and float so we should convert it before cleaning into string'"
   ]
  },
  {
   "cell_type": "code",
   "execution_count": 304,
   "metadata": {},
   "outputs": [],
   "source": [
    "df2.founded_date = df2.founded_date.astype(str)"
   ]
  },
  {
   "cell_type": "code",
   "execution_count": 305,
   "metadata": {},
   "outputs": [],
   "source": [
    "def get_year(dt):\n",
    "    year = dt.split(',')[1].strip()\n",
    "    return year"
   ]
  },
  {
   "cell_type": "code",
   "execution_count": 306,
   "metadata": {},
   "outputs": [],
   "source": [
    "df2['founded_date'] = df2.founded_date.apply(get_year) "
   ]
  },
  {
   "cell_type": "markdown",
   "metadata": {},
   "source": [
    "## Rename column total_funding_amout"
   ]
  },
  {
   "cell_type": "code",
   "execution_count": 307,
   "metadata": {},
   "outputs": [],
   "source": [
    "df2.rename(columns={'total_funding_amout':'total_funding_amount'},inplace=True)"
   ]
  },
  {
   "cell_type": "markdown",
   "metadata": {},
   "source": [
    "## Analysis Top 10 startups in E-learning and education field"
   ]
  },
  {
   "cell_type": "code",
   "execution_count": 308,
   "metadata": {},
   "outputs": [],
   "source": [
    "def validate_elearning(df):\n",
    "    if(('E-Learning' in df.category_list) or ('Education' in df.category_list) or ('Edtech' in df.category_list)):\n",
    "        return True\n",
    "    else:\n",
    "        return False\n",
    "\n",
    "df3 = df2[df2[['category_list']].apply(lambda x:validate_elearning(x),axis=1)].sort_index()"
   ]
  },
  {
   "cell_type": "code",
   "execution_count": 309,
   "metadata": {},
   "outputs": [
    {
     "data": {
      "text/html": [
       "<div>\n",
       "<style scoped>\n",
       "    .dataframe tbody tr th:only-of-type {\n",
       "        vertical-align: middle;\n",
       "    }\n",
       "\n",
       "    .dataframe tbody tr th {\n",
       "        vertical-align: top;\n",
       "    }\n",
       "\n",
       "    .dataframe thead th {\n",
       "        text-align: right;\n",
       "    }\n",
       "</style>\n",
       "<table border=\"1\" class=\"dataframe\">\n",
       "  <thead>\n",
       "    <tr style=\"text-align: right;\">\n",
       "      <th></th>\n",
       "      <th>name</th>\n",
       "      <th>description</th>\n",
       "      <th>founded_date</th>\n",
       "      <th>category_list</th>\n",
       "      <th>total_funding_amount</th>\n",
       "    </tr>\n",
       "  </thead>\n",
       "  <tbody>\n",
       "    <tr>\n",
       "      <th>2</th>\n",
       "      <td>Duolingo</td>\n",
       "      <td>Free language education for the world. Accordi...</td>\n",
       "      <td>2011</td>\n",
       "      <td>E-Learning,Education,Internet,Language Learning</td>\n",
       "      <td>108300000</td>\n",
       "    </tr>\n",
       "    <tr>\n",
       "      <th>3</th>\n",
       "      <td>Coursera</td>\n",
       "      <td>Coursera - We are a social entrepreneurship co...</td>\n",
       "      <td>2012</td>\n",
       "      <td>Edtech,Education,Enterprise,Internet</td>\n",
       "      <td>210100000</td>\n",
       "    </tr>\n",
       "    <tr>\n",
       "      <th>17</th>\n",
       "      <td>Skillshare</td>\n",
       "      <td>Skillshare is a global community where you can...</td>\n",
       "      <td>2010</td>\n",
       "      <td>Skills,Online Learning,Social Community,Web,E-...</td>\n",
       "      <td>22750168</td>\n",
       "    </tr>\n",
       "    <tr>\n",
       "      <th>23</th>\n",
       "      <td>TradingView</td>\n",
       "      <td>TradingView is not just an awesome tool, it’s ...</td>\n",
       "      <td>2011</td>\n",
       "      <td>Android,Cloud Computing,Education,Finance,Inte...</td>\n",
       "      <td>3752500</td>\n",
       "    </tr>\n",
       "    <tr>\n",
       "      <th>25</th>\n",
       "      <td>Pearltrees</td>\n",
       "      <td>Pearltrees is the social curation community. I...</td>\n",
       "      <td>2009</td>\n",
       "      <td>Curation,Community,Social,Education,Enterprise...</td>\n",
       "      <td>10400000</td>\n",
       "    </tr>\n",
       "    <tr>\n",
       "      <th>31</th>\n",
       "      <td>Teachable</td>\n",
       "      <td>Teachable is a multi-tenant, unbranded online ...</td>\n",
       "      <td>2013</td>\n",
       "      <td>Courses,E-Learning,Education,Online Portals,Ma...</td>\n",
       "      <td>8580000</td>\n",
       "    </tr>\n",
       "    <tr>\n",
       "      <th>32</th>\n",
       "      <td>Babbel</td>\n",
       "      <td>Interactive online courses on the web and as m...</td>\n",
       "      <td>2007</td>\n",
       "      <td>Courses,Online,Free,Web App,Mobile App,Apps,Ed...</td>\n",
       "      <td>33300000</td>\n",
       "    </tr>\n",
       "    <tr>\n",
       "      <th>33</th>\n",
       "      <td>Treehouse</td>\n",
       "      <td>Treehouse aims to be the best way to learn web...</td>\n",
       "      <td>2011</td>\n",
       "      <td>Businesses,Coding,Development,Learning,Web Des...</td>\n",
       "      <td>28350000</td>\n",
       "    </tr>\n",
       "    <tr>\n",
       "      <th>58</th>\n",
       "      <td>DataCamp</td>\n",
       "      <td>DataCamp - Become a data expert now. DataCamp ...</td>\n",
       "      <td>2013</td>\n",
       "      <td>Data Experts,Training,Online Education,Analyti...</td>\n",
       "      <td>6140000</td>\n",
       "    </tr>\n",
       "    <tr>\n",
       "      <th>71</th>\n",
       "      <td>Thinkific</td>\n",
       "      <td>Thinkific is a turn-key online course platform...</td>\n",
       "      <td>2012</td>\n",
       "      <td>Education,Learning,Educational,Instructors,Pla...</td>\n",
       "      <td>0</td>\n",
       "    </tr>\n",
       "  </tbody>\n",
       "</table>\n",
       "</div>"
      ],
      "text/plain": [
       "           name                                        description  \\\n",
       "2      Duolingo  Free language education for the world. Accordi...   \n",
       "3      Coursera  Coursera - We are a social entrepreneurship co...   \n",
       "17   Skillshare  Skillshare is a global community where you can...   \n",
       "23  TradingView  TradingView is not just an awesome tool, it’s ...   \n",
       "25   Pearltrees  Pearltrees is the social curation community. I...   \n",
       "31    Teachable  Teachable is a multi-tenant, unbranded online ...   \n",
       "32       Babbel  Interactive online courses on the web and as m...   \n",
       "33    Treehouse  Treehouse aims to be the best way to learn web...   \n",
       "58     DataCamp  DataCamp - Become a data expert now. DataCamp ...   \n",
       "71    Thinkific  Thinkific is a turn-key online course platform...   \n",
       "\n",
       "   founded_date                                      category_list  \\\n",
       "2          2011    E-Learning,Education,Internet,Language Learning   \n",
       "3          2012               Edtech,Education,Enterprise,Internet   \n",
       "17         2010  Skills,Online Learning,Social Community,Web,E-...   \n",
       "23         2011  Android,Cloud Computing,Education,Finance,Inte...   \n",
       "25         2009  Curation,Community,Social,Education,Enterprise...   \n",
       "31         2013  Courses,E-Learning,Education,Online Portals,Ma...   \n",
       "32         2007  Courses,Online,Free,Web App,Mobile App,Apps,Ed...   \n",
       "33         2011  Businesses,Coding,Development,Learning,Web Des...   \n",
       "58         2013  Data Experts,Training,Online Education,Analyti...   \n",
       "71         2012  Education,Learning,Educational,Instructors,Pla...   \n",
       "\n",
       "    total_funding_amount  \n",
       "2              108300000  \n",
       "3              210100000  \n",
       "17              22750168  \n",
       "23               3752500  \n",
       "25              10400000  \n",
       "31               8580000  \n",
       "32              33300000  \n",
       "33              28350000  \n",
       "58               6140000  \n",
       "71                     0  "
      ]
     },
     "execution_count": 309,
     "metadata": {},
     "output_type": "execute_result"
    }
   ],
   "source": [
    "df3.head(10)"
   ]
  },
  {
   "cell_type": "code",
   "execution_count": 310,
   "metadata": {},
   "outputs": [],
   "source": [
    "indexNumbers = df3[df3['total_funding_amount']==0].index\n",
    "df3.drop(indexNumbers , inplace=True)"
   ]
  },
  {
   "cell_type": "code",
   "execution_count": 311,
   "metadata": {},
   "outputs": [
    {
     "data": {
      "text/html": [
       "<div>\n",
       "<style scoped>\n",
       "    .dataframe tbody tr th:only-of-type {\n",
       "        vertical-align: middle;\n",
       "    }\n",
       "\n",
       "    .dataframe tbody tr th {\n",
       "        vertical-align: top;\n",
       "    }\n",
       "\n",
       "    .dataframe thead th {\n",
       "        text-align: right;\n",
       "    }\n",
       "</style>\n",
       "<table border=\"1\" class=\"dataframe\">\n",
       "  <thead>\n",
       "    <tr style=\"text-align: right;\">\n",
       "      <th></th>\n",
       "      <th>name</th>\n",
       "      <th>description</th>\n",
       "      <th>founded_date</th>\n",
       "      <th>category_list</th>\n",
       "      <th>total_funding_amount</th>\n",
       "    </tr>\n",
       "  </thead>\n",
       "  <tbody>\n",
       "    <tr>\n",
       "      <th>2</th>\n",
       "      <td>Duolingo</td>\n",
       "      <td>Free language education for the world. Accordi...</td>\n",
       "      <td>2011</td>\n",
       "      <td>E-Learning,Education,Internet,Language Learning</td>\n",
       "      <td>108300000</td>\n",
       "    </tr>\n",
       "    <tr>\n",
       "      <th>3</th>\n",
       "      <td>Coursera</td>\n",
       "      <td>Coursera - We are a social entrepreneurship co...</td>\n",
       "      <td>2012</td>\n",
       "      <td>Edtech,Education,Enterprise,Internet</td>\n",
       "      <td>210100000</td>\n",
       "    </tr>\n",
       "    <tr>\n",
       "      <th>17</th>\n",
       "      <td>Skillshare</td>\n",
       "      <td>Skillshare is a global community where you can...</td>\n",
       "      <td>2010</td>\n",
       "      <td>Skills,Online Learning,Social Community,Web,E-...</td>\n",
       "      <td>22750168</td>\n",
       "    </tr>\n",
       "    <tr>\n",
       "      <th>23</th>\n",
       "      <td>TradingView</td>\n",
       "      <td>TradingView is not just an awesome tool, it’s ...</td>\n",
       "      <td>2011</td>\n",
       "      <td>Android,Cloud Computing,Education,Finance,Inte...</td>\n",
       "      <td>3752500</td>\n",
       "    </tr>\n",
       "    <tr>\n",
       "      <th>25</th>\n",
       "      <td>Pearltrees</td>\n",
       "      <td>Pearltrees is the social curation community. I...</td>\n",
       "      <td>2009</td>\n",
       "      <td>Curation,Community,Social,Education,Enterprise...</td>\n",
       "      <td>10400000</td>\n",
       "    </tr>\n",
       "    <tr>\n",
       "      <th>31</th>\n",
       "      <td>Teachable</td>\n",
       "      <td>Teachable is a multi-tenant, unbranded online ...</td>\n",
       "      <td>2013</td>\n",
       "      <td>Courses,E-Learning,Education,Online Portals,Ma...</td>\n",
       "      <td>8580000</td>\n",
       "    </tr>\n",
       "    <tr>\n",
       "      <th>32</th>\n",
       "      <td>Babbel</td>\n",
       "      <td>Interactive online courses on the web and as m...</td>\n",
       "      <td>2007</td>\n",
       "      <td>Courses,Online,Free,Web App,Mobile App,Apps,Ed...</td>\n",
       "      <td>33300000</td>\n",
       "    </tr>\n",
       "    <tr>\n",
       "      <th>33</th>\n",
       "      <td>Treehouse</td>\n",
       "      <td>Treehouse aims to be the best way to learn web...</td>\n",
       "      <td>2011</td>\n",
       "      <td>Businesses,Coding,Development,Learning,Web Des...</td>\n",
       "      <td>28350000</td>\n",
       "    </tr>\n",
       "    <tr>\n",
       "      <th>58</th>\n",
       "      <td>DataCamp</td>\n",
       "      <td>DataCamp - Become a data expert now. DataCamp ...</td>\n",
       "      <td>2013</td>\n",
       "      <td>Data Experts,Training,Online Education,Analyti...</td>\n",
       "      <td>6140000</td>\n",
       "    </tr>\n",
       "    <tr>\n",
       "      <th>98</th>\n",
       "      <td>Plotly</td>\n",
       "      <td>Plotly - It is a free, online, graphing, curve...</td>\n",
       "      <td>2013</td>\n",
       "      <td>Online,Free,Infographic,Analytics,Big Data,Col...</td>\n",
       "      <td>10113948</td>\n",
       "    </tr>\n",
       "    <tr>\n",
       "      <th>111</th>\n",
       "      <td>Testbook</td>\n",
       "      <td>Testbook is an EdTech company - founded by IIT...</td>\n",
       "      <td>2013</td>\n",
       "      <td>Contests,Exams,Learning,Online,Students,Edtech...</td>\n",
       "      <td>4250000</td>\n",
       "    </tr>\n",
       "    <tr>\n",
       "      <th>112</th>\n",
       "      <td>Blinkist</td>\n",
       "      <td>Blinkist is a mobile reading app that offers a...</td>\n",
       "      <td>2012</td>\n",
       "      <td>Read,Reading,Reading Apps,Apps,Education</td>\n",
       "      <td>14800000</td>\n",
       "    </tr>\n",
       "    <tr>\n",
       "      <th>144</th>\n",
       "      <td>Lingualeo</td>\n",
       "      <td>Lingualeo is a personal online service for Eng...</td>\n",
       "      <td>2009</td>\n",
       "      <td>Web,Language Learning,Mobile,English,Developme...</td>\n",
       "      <td>6000000</td>\n",
       "    </tr>\n",
       "    <tr>\n",
       "      <th>181</th>\n",
       "      <td>Passei Direto</td>\n",
       "      <td>Passei Direto - Brazil's larget academic socia...</td>\n",
       "      <td>2012</td>\n",
       "      <td>Educational,Social Networks,Students,Education...</td>\n",
       "      <td>27300000</td>\n",
       "    </tr>\n",
       "  </tbody>\n",
       "</table>\n",
       "</div>"
      ],
      "text/plain": [
       "              name                                        description  \\\n",
       "2         Duolingo  Free language education for the world. Accordi...   \n",
       "3         Coursera  Coursera - We are a social entrepreneurship co...   \n",
       "17      Skillshare  Skillshare is a global community where you can...   \n",
       "23     TradingView  TradingView is not just an awesome tool, it’s ...   \n",
       "25      Pearltrees  Pearltrees is the social curation community. I...   \n",
       "31       Teachable  Teachable is a multi-tenant, unbranded online ...   \n",
       "32          Babbel  Interactive online courses on the web and as m...   \n",
       "33       Treehouse  Treehouse aims to be the best way to learn web...   \n",
       "58        DataCamp  DataCamp - Become a data expert now. DataCamp ...   \n",
       "98          Plotly  Plotly - It is a free, online, graphing, curve...   \n",
       "111       Testbook  Testbook is an EdTech company - founded by IIT...   \n",
       "112       Blinkist  Blinkist is a mobile reading app that offers a...   \n",
       "144      Lingualeo  Lingualeo is a personal online service for Eng...   \n",
       "181  Passei Direto  Passei Direto - Brazil's larget academic socia...   \n",
       "\n",
       "    founded_date                                      category_list  \\\n",
       "2           2011    E-Learning,Education,Internet,Language Learning   \n",
       "3           2012               Edtech,Education,Enterprise,Internet   \n",
       "17          2010  Skills,Online Learning,Social Community,Web,E-...   \n",
       "23          2011  Android,Cloud Computing,Education,Finance,Inte...   \n",
       "25          2009  Curation,Community,Social,Education,Enterprise...   \n",
       "31          2013  Courses,E-Learning,Education,Online Portals,Ma...   \n",
       "32          2007  Courses,Online,Free,Web App,Mobile App,Apps,Ed...   \n",
       "33          2011  Businesses,Coding,Development,Learning,Web Des...   \n",
       "58          2013  Data Experts,Training,Online Education,Analyti...   \n",
       "98          2013  Online,Free,Infographic,Analytics,Big Data,Col...   \n",
       "111         2013  Contests,Exams,Learning,Online,Students,Edtech...   \n",
       "112         2012           Read,Reading,Reading Apps,Apps,Education   \n",
       "144         2009  Web,Language Learning,Mobile,English,Developme...   \n",
       "181         2012  Educational,Social Networks,Students,Education...   \n",
       "\n",
       "     total_funding_amount  \n",
       "2               108300000  \n",
       "3               210100000  \n",
       "17               22750168  \n",
       "23                3752500  \n",
       "25               10400000  \n",
       "31                8580000  \n",
       "32               33300000  \n",
       "33               28350000  \n",
       "58                6140000  \n",
       "98               10113948  \n",
       "111               4250000  \n",
       "112              14800000  \n",
       "144               6000000  \n",
       "181              27300000  "
      ]
     },
     "execution_count": 311,
     "metadata": {},
     "output_type": "execute_result"
    }
   ],
   "source": [
    "df3"
   ]
  },
  {
   "cell_type": "code",
   "execution_count": 313,
   "metadata": {},
   "outputs": [
    {
     "data": {
      "text/plain": [
       "Text(0.48, 1.05, 'TP 10 leader startups in E-learning and Education field')"
      ]
     },
     "execution_count": 313,
     "metadata": {},
     "output_type": "execute_result"
    },
    {
     "data": {
      "image/png": "[encoded data removed]",
      "text/plain": [
       "<Figure size 1080x648 with 1 Axes>"
      ]
     },
     "metadata": {
      "needs_background": "light"
     },
     "output_type": "display_data"
    }
   ],
   "source": [
    "import matplotlib.pyplot as plt\n",
    "import seaborn as sns\n",
    "import numpy as np\n",
    "\n",
    "df4 = df3.head(10)\n",
    "plt.rcParams['figure.figsize'] = 15,9\n",
    "height = df4['total_funding_amount']\n",
    "bars =  df4['name']\n",
    "y_pos = np.arange(len(bars))\n",
    "\n",
    "\n",
    "plt.bar(y_pos, height , width=0.7 ,color= ['c']+['paleturquoise']*14)\n",
    "plt.xticks(y_pos, bars)\n",
    "plt.xticks(rotation=80)\n",
    "plt.ylabel('Total funding amount')\n",
    "plt.xlabel('Name')\n",
    "plt.title(\"TP 10 leader startups in E-learning and Education field\", fontdict=None, position= [0.48,1.05], size = 'x-large')\n",
    "\n"
   ]
  },
  {
   "cell_type": "code",
   "execution_count": null,
   "metadata": {},
   "outputs": [],
   "source": []
  }
 ],
 "metadata": {
  "kernelspec": {
   "display_name": "Python 3",
   "language": "python",
   "name": "python3"
  },
  "language_info": {
   "codemirror_mode": {
    "name": "ipython",
    "version": 3
   },
   "file_extension": ".py",
   "mimetype": "text/x-python",
   "name": "python",
   "nbconvert_exporter": "python",
   "pygments_lexer": "ipython3",
   "version": "3.7.6"
  }
 },
 "nbformat": 4,
 "nbformat_minor": 4
}
