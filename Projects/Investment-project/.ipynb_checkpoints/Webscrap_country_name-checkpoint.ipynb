{
 "cells": [
  {
   "cell_type": "code",
   "execution_count": null,
   "metadata": {},
   "outputs": [],
   "source": [
    "import time\n",
    "import requests as r\n",
    "from bs4 import BeautifulSoup\n",
    "import pandas as pd\n",
    "\n",
    "\n",
    "\n",
    "def get_country_names(df_urls):\n",
    "    dataframe = pd.DataFame()\n",
    "    for i in df_urls.URLS:\n",
    "        resp = r.get(i).content\n",
    "        soup =BeautifulSoup(resp)\n",
    "        country_name = soup.select('img.flag')[0].get('alt')\n",
    "        dict_info={'country_name':[country_name]}\n",
    "        df=pd.DataFrame(dict_info)\n",
    "        dataframe = dataframe.append(df)\n",
    "        time.sleep(2)   \n",
    "    return dataframe\n",
    "df_urls = pd.read_csv('list_urls.csv')\n",
    "dataframe = get_country_names(df_urls)"
   ]
  }
 ],
 "metadata": {
  "kernelspec": {
   "display_name": "Python 3",
   "language": "python",
   "name": "python3"
  },
  "language_info": {
   "codemirror_mode": {
    "name": "ipython",
    "version": 3
   },
   "file_extension": ".py",
   "mimetype": "text/x-python",
   "name": "python",
   "nbconvert_exporter": "python",
   "pygments_lexer": "ipython3",
   "version": "3.7.6"
  }
 },
 "nbformat": 4,
 "nbformat_minor": 4
}
